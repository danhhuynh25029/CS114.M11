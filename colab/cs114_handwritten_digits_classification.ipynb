{
  "nbformat": 4,
  "nbformat_minor": 0,
  "metadata": {
    "colab": {
      "name": "cs114_hand_written_digits_classification.ipynb",
      "provenance": [],
      "collapsed_sections": [],
      "toc_visible": true
    },
    "kernelspec": {
      "display_name": "Python 3",
      "language": "python",
      "name": "python3"
    },
    "language_info": {
      "codemirror_mode": {
        "name": "ipython",
        "version": 3
      },
      "file_extension": ".py",
      "mimetype": "text/x-python",
      "name": "python",
      "nbconvert_exporter": "python",
      "pygments_lexer": "ipython3",
      "version": "3.9.7"
    }
  },
  "cells": [
    {
      "cell_type": "markdown",
      "source": [
        "# CS114.M11 - Máy học\n",
        "---\n",
        "### 19521322 - Huỳnh Ngọn Công Danh\n",
        "### 19521858 - Võ Tuấn Minh\n",
        "### 19522524 - Nguyễn Phú Vinh"
      ],
      "metadata": {
        "id": "Hg_vjMrZKnj6"
      }
    },
    {
      "cell_type": "markdown",
      "source": [
        "# Tài liệu tham khảo\n",
        "1. Dataset, training: https://scikit-learn.org/stable/auto_examples/classification/plot_digits_classification.html#sphx-glr-auto-examples-classification-plot-digits-classification-py\n",
        "2. Camera Capture: [Google Colab](https://colab.research.google.com/#snippetFileIds=%2Fv2%2Fexternal%2Fnotebooks%2Fsnippets%2Fadvanced_outputs.ipynb&snippetQuery=Camera%20Capture)\n",
        "3. Smoothing Images: https://docs.opencv.org/master/d4/d13/tutorial_py_filtering.html\n",
        "4. Thresholding Images: https://docs.opencv.org/4.x/d7/d4d/tutorial_py_thresholding.html\n",
        "5. Resize image: https://www.pyimagesearch.com/2021/01/20/opencv-resize-image-cv2-resize/\n",
        "6. Pyplot image: https://matplotlib.org/stable/api/_as_gen/matplotlib.pyplot.imshow.html\n",
        "7. Crop with contour: https://stackoverflow.com/questions/44588279/find-and-draw-the-largest-contour-in-opencv-on-a-specific-color-python\n",
        "8. Normalize image: https://docs.opencv.org/2.4/modules/core/doc/operations_on_arrays.html#normalize\n"
      ],
      "metadata": {
        "id": "va5p6ha5MU93"
      }
    },
    {
      "cell_type": "markdown",
      "source": [
        "# **1.Train model và đánh giá**"
      ],
      "metadata": {
        "id": "4sjUtyGpOf1H"
      }
    },
    {
      "cell_type": "markdown",
      "metadata": {
        "id": "U_h5s4jO7u98"
      },
      "source": [
        "## **1.1 Import thư viện**"
      ]
    },
    {
      "cell_type": "code",
      "metadata": {
        "id": "CEXj7ZxeF5oa"
      },
      "source": [
        "import matplotlib.pyplot as plt\n",
        "from sklearn import datasets, svm, metrics\n",
        "from sklearn.model_selection import train_test_split\n",
        "import numpy as np\n",
        "import cv2\n",
        "from google.colab.patches import cv2_imshow\n",
        "import os"
      ],
      "execution_count": null,
      "outputs": []
    },
    {
      "cell_type": "markdown",
      "metadata": {
        "id": "-Qvj7-vg7y4t"
      },
      "source": [
        "## **1.2 Load data & plot data**"
      ]
    },
    {
      "cell_type": "code",
      "metadata": {
        "colab": {
          "base_uri": "https://localhost:8080/",
          "height": 168
        },
        "id": "Mgrg7rrrF5ob",
        "outputId": "e3894af7-6520-48fe-a76d-8db4478d04d1"
      },
      "source": [
        "digits = datasets.load_digits()\n",
        "\n",
        "_, axes = plt.subplots(nrows=1, ncols=4, figsize=(10, 3))\n",
        "for ax, image, label in zip(axes, digits.images, digits.target):\n",
        "    ax.set_axis_off()\n",
        "    ax.imshow(image, cmap=plt.cm.gray_r, interpolation=\"nearest\")\n",
        "    ax.set_title(\"Training: %i\" % label)"
      ],
      "execution_count": null,
      "outputs": [
        {
          "output_type": "display_data",
          "data": {
            "image/png": "[encoded data removed]",
            "text/plain": [
              "<Figure size 720x216 with 4 Axes>"
            ]
          },
          "metadata": {
            "needs_background": "light"
          }
        }
      ]
    },
    {
      "cell_type": "markdown",
      "source": [
        "## **1.3 Kiểm tra dữ liệu** "
      ],
      "metadata": {
        "id": "Bq4FegiOK0V8"
      }
    },
    {
      "cell_type": "code",
      "source": [
        "for i in range(4):\n",
        "  print(\"Image\", i + 1, \": \")\n",
        "  print(\"Matrix:\", digits.images[i])\n",
        "  print(\"Size: \", digits.images[i].shape)\n",
        "  print(\"Min: \", np.min(digits.images[i]))\n",
        "  print(\"Max: \", np.max(digits.images[i]))\n",
        "  print(\"===========================================\");"
      ],
      "metadata": {
        "colab": {
          "base_uri": "https://localhost:8080/"
        },
        "id": "zA26sFL9K2rL",
        "outputId": "1c11b994-26d4-4ed5-fec3-0c0979caf2fc"
      },
      "execution_count": null,
      "outputs": [
        {
          "output_type": "stream",
          "name": "stdout",
          "text": [
            "Image 1 : \n",
            "Matrix: [[ 0.  0.  5. 13.  9.  1.  0.  0.]\n",
            " [ 0.  0. 13. 15. 10. 15.  5.  0.]\n",
            " [ 0.  3. 15.  2.  0. 11.  8.  0.]\n",
            " [ 0.  4. 12.  0.  0.  8.  8.  0.]\n",
            " [ 0.  5.  8.  0.  0.  9.  8.  0.]\n",
            " [ 0.  4. 11.  0.  1. 12.  7.  0.]\n",
            " [ 0.  2. 14.  5. 10. 12.  0.  0.]\n",
            " [ 0.  0.  6. 13. 10.  0.  0.  0.]]\n",
            "Size:  (8, 8)\n",
            "Min:  0.0\n",
            "Max:  15.0\n",
            "===========================================\n",
            "Image 2 : \n",
            "Matrix: [[ 0.  0.  0. 12. 13.  5.  0.  0.]\n",
            " [ 0.  0.  0. 11. 16.  9.  0.  0.]\n",
            " [ 0.  0.  3. 15. 16.  6.  0.  0.]\n",
            " [ 0.  7. 15. 16. 16.  2.  0.  0.]\n",
            " [ 0.  0.  1. 16. 16.  3.  0.  0.]\n",
            " [ 0.  0.  1. 16. 16.  6.  0.  0.]\n",
            " [ 0.  0.  1. 16. 16.  6.  0.  0.]\n",
            " [ 0.  0.  0. 11. 16. 10.  0.  0.]]\n",
            "Size:  (8, 8)\n",
            "Min:  0.0\n",
            "Max:  16.0\n",
            "===========================================\n",
            "Image 3 : \n",
            "Matrix: [[ 0.  0.  0.  4. 15. 12.  0.  0.]\n",
            " [ 0.  0.  3. 16. 15. 14.  0.  0.]\n",
            " [ 0.  0.  8. 13.  8. 16.  0.  0.]\n",
            " [ 0.  0.  1.  6. 15. 11.  0.  0.]\n",
            " [ 0.  1.  8. 13. 15.  1.  0.  0.]\n",
            " [ 0.  9. 16. 16.  5.  0.  0.  0.]\n",
            " [ 0.  3. 13. 16. 16. 11.  5.  0.]\n",
            " [ 0.  0.  0.  3. 11. 16.  9.  0.]]\n",
            "Size:  (8, 8)\n",
            "Min:  0.0\n",
            "Max:  16.0\n",
            "===========================================\n",
            "Image 4 : \n",
            "Matrix: [[ 0.  0.  7. 15. 13.  1.  0.  0.]\n",
            " [ 0.  8. 13.  6. 15.  4.  0.  0.]\n",
            " [ 0.  2.  1. 13. 13.  0.  0.  0.]\n",
            " [ 0.  0.  2. 15. 11.  1.  0.  0.]\n",
            " [ 0.  0.  0.  1. 12. 12.  1.  0.]\n",
            " [ 0.  0.  0.  0.  1. 10.  8.  0.]\n",
            " [ 0.  0.  8.  4.  5. 14.  9.  0.]\n",
            " [ 0.  0.  7. 13. 13.  9.  0.  0.]]\n",
            "Size:  (8, 8)\n",
            "Min:  0.0\n",
            "Max:  15.0\n",
            "===========================================\n"
          ]
        }
      ]
    },
    {
      "cell_type": "code",
      "source": [
        "print(\"Shape: \", digits.images.shape)\n",
        "print(\"Min: %d\" % np.min(digits.images))\n",
        "print(\"Max: %d\" % np.max(digits.images))"
      ],
      "metadata": {
        "colab": {
          "base_uri": "https://localhost:8080/"
        },
        "id": "CYO-mzhwjtOV",
        "outputId": "126f824e-e7d3-441d-9d13-51eb5b0bf899"
      },
      "execution_count": null,
      "outputs": [
        {
          "output_type": "stream",
          "name": "stdout",
          "text": [
            "Shape:  (1797, 8, 8)\n",
            "Min: 0\n",
            "Max: 16\n"
          ]
        }
      ]
    },
    {
      "cell_type": "markdown",
      "source": [
        "- Sau khi xem xét dữ liệu, nhóm nhận thấy:\n",
        "  + Dữ liệu có 1797 ảnh\n",
        "  + Mỗi ảnh là 1 ma trận 8 x 8\n",
        "  + Giá trị của mỗi pixel nằm trong khoảng [0, 16]"
      ],
      "metadata": {
        "id": "ZgZqSicILLTi"
      }
    },
    {
      "cell_type": "markdown",
      "metadata": {
        "id": "1PmOUPGh73DD"
      },
      "source": [
        "## **1.4 Train model**"
      ]
    },
    {
      "cell_type": "markdown",
      "source": [
        "- Nhóm em phân chia bộ dữ liệu thành 2 tập train và test với tỉ lệ 8 : 2"
      ],
      "metadata": {
        "id": "vPOEpLh4L7t9"
      }
    },
    {
      "cell_type": "code",
      "metadata": {
        "id": "XPGHwc2eF5oc"
      },
      "source": [
        "n_samples = len(digits.images)\n",
        "\n",
        "data = digits.images.reshape((n_samples, -1))\n",
        "\n",
        "clf = svm.SVC(gamma=0.001)\n",
        "X_train, X_test, y_train, y_test = train_test_split(\n",
        "    data, digits.target, test_size=0.2, shuffle=False\n",
        ")\n",
        "clf.fit(X_train, y_train)\n",
        "predicted = clf.predict(X_test)"
      ],
      "execution_count": null,
      "outputs": []
    },
    {
      "cell_type": "markdown",
      "metadata": {
        "id": "JJ0piphZ75M8"
      },
      "source": [
        "## **1.5 Hiển thị kết quả dự đoán**"
      ]
    },
    {
      "cell_type": "code",
      "metadata": {
        "colab": {
          "base_uri": "https://localhost:8080/",
          "height": 168
        },
        "id": "llAt6goDF5od",
        "outputId": "e4b3e5b6-2081-4905-835b-ccd553606500"
      },
      "source": [
        "_, axes = plt.subplots(nrows=1, ncols=4, figsize=(10, 3))\n",
        "for ax, image, prediction in zip(axes, X_test, predicted):\n",
        "    ax.set_axis_off()\n",
        "    image = image.reshape(8, 8)\n",
        "    ax.imshow(image, cmap=plt.cm.gray_r, interpolation=\"nearest\")\n",
        "    ax.set_title(f\"Prediction: {prediction}\")"
      ],
      "execution_count": null,
      "outputs": [
        {
          "output_type": "display_data",
          "data": {
            "image/png": "[encoded data removed]",
            "text/plain": [
              "<Figure size 720x216 with 4 Axes>"
            ]
          },
          "metadata": {
            "needs_background": "light"
          }
        }
      ]
    },
    {
      "cell_type": "markdown",
      "metadata": {
        "id": "p15ZKCAq78LF"
      },
      "source": [
        "## **1.6 Đánh giá**"
      ]
    },
    {
      "cell_type": "code",
      "metadata": {
        "colab": {
          "base_uri": "https://localhost:8080/"
        },
        "id": "0ecxmkzoF5oe",
        "outputId": "13472212-192e-44a9-88c6-465c5028d293"
      },
      "source": [
        "print(\n",
        "    f\"Classification report for classifier {clf}:\\n\"\n",
        "    f\"{metrics.classification_report(y_test, predicted)}\\n\"\n",
        ")"
      ],
      "execution_count": null,
      "outputs": [
        {
          "output_type": "stream",
          "name": "stdout",
          "text": [
            "Classification report for classifier SVC(gamma=0.001):\n",
            "              precision    recall  f1-score   support\n",
            "\n",
            "           0       1.00      0.97      0.99        35\n",
            "           1       0.97      1.00      0.99        36\n",
            "           2       1.00      1.00      1.00        35\n",
            "           3       0.97      0.81      0.88        37\n",
            "           4       0.97      0.92      0.94        37\n",
            "           5       0.93      1.00      0.96        37\n",
            "           6       1.00      1.00      1.00        37\n",
            "           7       0.97      1.00      0.99        36\n",
            "           8       0.84      0.94      0.89        33\n",
            "           9       0.95      0.95      0.95        37\n",
            "\n",
            "    accuracy                           0.96       360\n",
            "   macro avg       0.96      0.96      0.96       360\n",
            "weighted avg       0.96      0.96      0.96       360\n",
            "\n",
            "\n"
          ]
        }
      ]
    },
    {
      "cell_type": "markdown",
      "source": [
        "- Các giá trị precision, recal, f1-score cho kết quả đều bằng 0.96. Các kết quả này khá tốt khi đánh giá trên tập test"
      ],
      "metadata": {
        "id": "2hfhC3B8OEWR"
      }
    },
    {
      "cell_type": "code",
      "metadata": {
        "colab": {
          "base_uri": "https://localhost:8080/",
          "height": 499
        },
        "id": "oP9sCsBOF5oe",
        "outputId": "3e797b69-e204-4707-bc42-afbe52e573e2"
      },
      "source": [
        "disp = metrics.ConfusionMatrixDisplay.from_predictions(y_test, predicted)\n",
        "disp.figure_.suptitle(\"Confusion Matrix\")\n",
        "print(f\"Confusion matrix:\\n{disp.confusion_matrix}\")\n",
        "\n",
        "plt.show()"
      ],
      "execution_count": null,
      "outputs": [
        {
          "output_type": "stream",
          "name": "stdout",
          "text": [
            "Confusion matrix:\n",
            "[[34  0  0  0  1  0  0  0  0  0]\n",
            " [ 0 36  0  0  0  0  0  0  0  0]\n",
            " [ 0  0 35  0  0  0  0  0  0  0]\n",
            " [ 0  0  0 30  0  2  0  1  4  0]\n",
            " [ 0  0  0  0 34  0  0  0  2  1]\n",
            " [ 0  0  0  0  0 37  0  0  0  0]\n",
            " [ 0  0  0  0  0  0 37  0  0  0]\n",
            " [ 0  0  0  0  0  0  0 36  0  0]\n",
            " [ 0  1  0  0  0  0  0  0 31  1]\n",
            " [ 0  0  0  1  0  1  0  0  0 35]]\n"
          ]
        },
        {
          "output_type": "display_data",
          "data": {
            "image/png": "[encoded data removed]",
            "text/plain": [
              "<Figure size 432x288 with 2 Axes>"
            ]
          },
          "metadata": {
            "needs_background": "light"
          }
        }
      ]
    },
    {
      "cell_type": "markdown",
      "metadata": {
        "id": "bOVwCF6O7-Op"
      },
      "source": [
        "# **2. Thử nghiệm trên ảnh**"
      ]
    },
    {
      "cell_type": "code",
      "metadata": {
        "id": "tPflwhjT9Pkg"
      },
      "source": [
        "# Hàm hiển thị ảnh RGB\n",
        "def show_img(img):\n",
        "  plt.figure(figsize=(3, 3))\n",
        "  plt.imshow(cv2.cvtColor(img, cv2.COLOR_BGR2RGB), interpolation=\"nearest\")\n",
        "  plt.xticks([])\n",
        "  plt.yticks([])\n",
        "  plt.show"
      ],
      "execution_count": null,
      "outputs": []
    },
    {
      "cell_type": "code",
      "metadata": {
        "id": "L40YdFT5AQOV"
      },
      "source": [
        "# Hàm hiển thị ảnh\n",
        "def show_img_bi(img):\n",
        "  plt.figure(figsize=(3, 3))\n",
        "  plt.imshow(img,cmap=plt.cm.gray_r, interpolation=\"nearest\")\n",
        "  plt.xticks([])\n",
        "  plt.yticks([])\n",
        "  plt.show"
      ],
      "execution_count": null,
      "outputs": []
    },
    {
      "cell_type": "code",
      "source": [
        "def show_2img_bi(img1, img2, title1=\"\", title2=\"\"):\n",
        "  _, axes = plt.subplots(nrows=1, ncols=2, figsize=(10, 3))\n",
        " \n",
        "  axes[0].imshow(img1, cmap=plt.cm.gray_r, interpolation=\"nearest\")\n",
        "  axes[0].set_title(title1)\n",
        "\n",
        "  axes[1].imshow(img2, cmap=plt.cm.gray_r, interpolation=\"nearest\")\n",
        "  axes[1].set_title(title2)"
      ],
      "metadata": {
        "id": "_9FLqIfkWhc6"
      },
      "execution_count": null,
      "outputs": []
    },
    {
      "cell_type": "markdown",
      "source": [
        "## **2.1 Các bước tiền xử lý**"
      ],
      "metadata": {
        "id": "cCBUZY6lPRPF"
      }
    },
    {
      "cell_type": "markdown",
      "metadata": {
        "id": "ZTQ1ihki8V6U"
      },
      "source": [
        "### 2.1.1 Đọc ảnh"
      ]
    },
    {
      "cell_type": "code",
      "metadata": {
        "colab": {
          "base_uri": "https://localhost:8080/",
          "height": 197
        },
        "id": "yMfAn0qr8GfG",
        "outputId": "89595492-a3fc-408d-e5f1-01400650cf2e"
      },
      "source": [
        "img = cv2.imread('/content/_6.jpg')\n",
        "show_img(img)"
      ],
      "execution_count": null,
      "outputs": [
        {
          "output_type": "display_data",
          "data": {
            "image/png": "[encoded data removed]",
            "text/plain": [
              "<Figure size 216x216 with 1 Axes>"
            ]
          },
          "metadata": {}
        }
      ]
    },
    {
      "cell_type": "markdown",
      "metadata": {
        "id": "cOeAJBbx9bT1"
      },
      "source": [
        "### 2.1.2 Smoothing image"
      ]
    },
    {
      "cell_type": "markdown",
      "metadata": {
        "id": "3PMC0RmY9yrT"
      },
      "source": [
        "Sử dụng phương pháp Gaussian Blurring với Gaussian kernel size = (5, 5). Mục đích là loại bỏ nhiễu, làm mịn ảnh"
      ]
    },
    {
      "cell_type": "code",
      "metadata": {
        "colab": {
          "base_uri": "https://localhost:8080/",
          "height": 197
        },
        "id": "XGQUZWXg8zCb",
        "outputId": "8795b1ef-d009-4881-dd4c-ac7e6a00a033"
      },
      "source": [
        "blured = cv2.GaussianBlur(img, (5, 5), 0)\n",
        "show_img(blured)"
      ],
      "execution_count": null,
      "outputs": [
        {
          "output_type": "display_data",
          "data": {
            "image/png": "[encoded data removed]",
            "text/plain": [
              "<Figure size 216x216 with 1 Axes>"
            ]
          },
          "metadata": {}
        }
      ]
    },
    {
      "cell_type": "markdown",
      "metadata": {
        "id": "ZKPnhCUc-DIA"
      },
      "source": [
        "### 2.1.3 Tăng độ tương phản, tăng độ sáng"
      ]
    },
    {
      "cell_type": "markdown",
      "source": [
        "Mục đích làm nổi bật chữ số, giảm các chi tiết có màu tối"
      ],
      "metadata": {
        "id": "6gOkvKsD2-E1"
      }
    },
    {
      "cell_type": "code",
      "metadata": {
        "colab": {
          "base_uri": "https://localhost:8080/",
          "height": 197
        },
        "id": "UNRVK9Ms9nfQ",
        "outputId": "35154672-2c8e-4f84-cba6-bd518624d368"
      },
      "source": [
        "alpha = 1.5\n",
        "beta = 30\n",
        "new_image=cv2.addWeighted(blured,alpha,np.zeros(blured.shape, blured.dtype),0,beta)\n",
        "show_img(new_image)"
      ],
      "execution_count": null,
      "outputs": [
        {
          "output_type": "display_data",
          "data": {
            "image/png": "[encoded data removed]",
            "text/plain": [
              "<Figure size 216x216 with 1 Axes>"
            ]
          },
          "metadata": {}
        }
      ]
    },
    {
      "cell_type": "markdown",
      "metadata": {
        "id": "FFC-9R68-eL8"
      },
      "source": [
        "### 2.1.4 Chuyển sang ảnh grayscale"
      ]
    },
    {
      "cell_type": "code",
      "metadata": {
        "colab": {
          "base_uri": "https://localhost:8080/",
          "height": 197
        },
        "id": "TXeoLg9X-iEG",
        "outputId": "aca0f91f-ccd6-4062-a04c-4151d9227709"
      },
      "source": [
        "gray = cv2.cvtColor(new_image, cv2.COLOR_BGR2GRAY)\n",
        "show_img(gray)"
      ],
      "execution_count": null,
      "outputs": [
        {
          "output_type": "display_data",
          "data": {
            "image/png": "[encoded data removed]",
            "text/plain": [
              "<Figure size 216x216 with 1 Axes>"
            ]
          },
          "metadata": {}
        }
      ]
    },
    {
      "cell_type": "markdown",
      "metadata": {
        "id": "IjMnV7qt-tqX"
      },
      "source": [
        "### 2.1.5 Phân ngưỡng (chuyển ảnh sang ảnh đen trắng)"
      ]
    },
    {
      "cell_type": "code",
      "metadata": {
        "colab": {
          "base_uri": "https://localhost:8080/",
          "height": 197
        },
        "id": "5HcyAYvG-qXA",
        "outputId": "1c17b969-36b5-4a3b-ac2a-1da4d173983a"
      },
      "source": [
        " _, thresh_hold = cv2.threshold(gray, 190, 255, cv2.THRESH_BINARY_INV)\n",
        " show_img(thresh_hold)"
      ],
      "execution_count": null,
      "outputs": [
        {
          "output_type": "display_data",
          "data": {
            "image/png": "[encoded data removed]",
            "text/plain": [
              "<Figure size 216x216 with 1 Axes>"
            ]
          },
          "metadata": {}
        }
      ]
    },
    {
      "cell_type": "markdown",
      "metadata": {
        "id": "bs7Y5wlc-5pT"
      },
      "source": [
        "### 2.1.6 Crop ảnh"
      ]
    },
    {
      "cell_type": "markdown",
      "source": [
        "- Mục tiêu là lấy ra chữ số và loại bỏ các phần dư thừa"
      ],
      "metadata": {
        "id": "t9Eo-xnWTYLU"
      }
    },
    {
      "cell_type": "code",
      "metadata": {
        "colab": {
          "base_uri": "https://localhost:8080/",
          "height": 197
        },
        "id": "StyPjwuQ-8oz",
        "outputId": "ba77bf8b-52ff-4c0a-d913-2e0dadb78567"
      },
      "source": [
        "def crop_image(img_thresh_hod):\n",
        "  contours, h = cv2.findContours(img_thresh_hod, cv2.RETR_EXTERNAL, cv2.CHAIN_APPROX_SIMPLE)\n",
        "  contours = sorted(contours, key=cv2.contourArea, reverse=True)\n",
        "  (x, y, w, h) = cv2.boundingRect(contours[0])\n",
        "\n",
        "  # Lấy thêm 50 pixel làm padding\n",
        "  # Để khi resize các đặc trưng được giữ lại tốt hơn\n",
        "  crop = img_thresh_hod[y - 50: y + h + 50, x - 50: x + w + 50]\n",
        "  return crop\n",
        "\n",
        "crop = crop_image(thresh_hold)\n",
        "show_img(crop)"
      ],
      "execution_count": null,
      "outputs": [
        {
          "output_type": "display_data",
          "data": {
            "image/png": "[encoded data removed]",
            "text/plain": [
              "<Figure size 216x216 with 1 Axes>"
            ]
          },
          "metadata": {}
        }
      ]
    },
    {
      "cell_type": "markdown",
      "source": [
        "### 2.1.7 Resize ảnh về (8,8)"
      ],
      "metadata": {
        "id": "t1FrmV6gSX3a"
      }
    },
    {
      "cell_type": "markdown",
      "source": [
        "- Mục đích đưa về cùng kích thước với data train"
      ],
      "metadata": {
        "id": "ZxEH7HAE4UmQ"
      }
    },
    {
      "cell_type": "code",
      "source": [
        "# 2.1.7: Case 1\n",
        "resize = cv2.resize(crop, (8, 8))\n",
        "show_img_bi(resize)"
      ],
      "metadata": {
        "colab": {
          "base_uri": "https://localhost:8080/",
          "height": 197
        },
        "id": "2IR_oglNSc6N",
        "outputId": "488b7b2c-e554-4e70-d391-a8b331a5a7a7"
      },
      "execution_count": null,
      "outputs": [
        {
          "output_type": "display_data",
          "data": {
            "image/png": "[encoded data removed]",
            "text/plain": [
              "<Figure size 216x216 with 1 Axes>"
            ]
          },
          "metadata": {}
        }
      ]
    },
    {
      "cell_type": "markdown",
      "source": [
        "- Khi resize ảnh 1 lần duy nhất thì các đặc trưng trong ảnh gần như biến mất, ta không còn nhìn ra chữ số trong ảnh nữa. Nên nhóm quyết định resize nhiều lần"
      ],
      "metadata": {
        "id": "U7SgbqOJS6AJ"
      }
    },
    {
      "cell_type": "code",
      "source": [
        "# 2.1.7: Case 2\n",
        "def resize_many_times_8x8(crop):\n",
        "  resize = crop.copy()\n",
        "  while resize.shape[0] >= 16:\n",
        "    resize = cv2.resize(resize, (0, 0),fx=0.5, fy=0.5, interpolation=cv2.INTER_LINEAR)\n",
        "\n",
        "  resize = cv2.resize(resize, (8, 8), interpolation=cv2.INTER_LINEAR)\n",
        "  return resize\n",
        "resize = resize_many_times(crop)\n",
        "show_img_bi(resize)"
      ],
      "metadata": {
        "colab": {
          "base_uri": "https://localhost:8080/",
          "height": 197
        },
        "id": "LUyYYNXWTfmN",
        "outputId": "4b3ad37b-b50a-4f85-8e22-d0f446b583ec"
      },
      "execution_count": null,
      "outputs": [
        {
          "output_type": "display_data",
          "data": {
            "image/png": "[encoded data removed]",
            "text/plain": [
              "<Figure size 216x216 with 1 Axes>"
            ]
          },
          "metadata": {}
        }
      ]
    },
    {
      "cell_type": "markdown",
      "source": [
        "- Sau khi resize nhiều lần thì ta có thể dễ nhìn thấy chữ số trong ảnh hơn"
      ],
      "metadata": {
        "id": "eJ1SWbnwUaUR"
      }
    },
    {
      "cell_type": "code",
      "source": [
        "show_2img_bi(resize, digits.images[6], \"preprocessing\", \"data\")"
      ],
      "metadata": {
        "colab": {
          "base_uri": "https://localhost:8080/",
          "height": 227
        },
        "id": "-RfMGnuIUrI9",
        "outputId": "0d828d5d-f6a5-49e7-ef5a-3f6e78f40b95"
      },
      "execution_count": null,
      "outputs": [
        {
          "output_type": "display_data",
          "data": {
            "image/png": "[encoded data removed]",
            "text/plain": [
              "<Figure size 720x216 with 2 Axes>"
            ]
          },
          "metadata": {
            "needs_background": "light"
          }
        }
      ]
    },
    {
      "cell_type": "markdown",
      "source": [
        "- Để cho ảnh sau khi xử lý giống với dữ liệu hơn thì nhóm không resize trực tiếp về (8, 8) mà resize về (6, 8) và thêm padding"
      ],
      "metadata": {
        "id": "iHss1mcYYGQ9"
      }
    },
    {
      "cell_type": "code",
      "source": [
        "# 2.1.7: Case 3\n",
        "def resize_many_times_6x8(crop):\n",
        "  resize = crop.copy()\n",
        "  while resize.shape[0] >= 16:\n",
        "    resize = cv2.resize(resize, (0, 0),fx=0.5, fy=0.5, interpolation=cv2.INTER_LINEAR)\n",
        "\n",
        "  resize = cv2.resize(resize, (6, 8), interpolation=cv2.INTER_LINEAR)\n",
        "  return resize"
      ],
      "metadata": {
        "id": "GpGoftcQZUVg"
      },
      "execution_count": null,
      "outputs": []
    },
    {
      "cell_type": "code",
      "source": [
        "resize = resize_many_times_6x8(crop)\n",
        "def add_padding(image):\n",
        "  result = np.full((8, 8), (0), dtype=np.uint8)\n",
        "  result[:, 1:7] = image\n",
        "  return result\n",
        "result = add_padding(resize)"
      ],
      "metadata": {
        "id": "Xbi4YY54aV9x"
      },
      "execution_count": null,
      "outputs": []
    },
    {
      "cell_type": "code",
      "source": [
        "show_2img_bi(resize, result, \"before add padding\", \"after add padding\")\n",
        "show_2img_bi(result, digits.images[6], \"after add padding\", \"data\")"
      ],
      "metadata": {
        "colab": {
          "base_uri": "https://localhost:8080/",
          "height": 437
        },
        "id": "fquvuzIMaqqt",
        "outputId": "4cb285f3-d2d4-4cd5-e270-fd131370b66b"
      },
      "execution_count": null,
      "outputs": [
        {
          "output_type": "display_data",
          "data": {
            "image/png": "[encoded data removed]",
            "text/plain": [
              "<Figure size 720x216 with 2 Axes>"
            ]
          },
          "metadata": {
            "needs_background": "light"
          }
        },
        {
          "output_type": "display_data",
          "data": {
            "image/png": "[encoded data removed]",
            "text/plain": [
              "<Figure size 720x216 with 2 Axes>"
            ]
          },
          "metadata": {
            "needs_background": "light"
          }
        }
      ]
    },
    {
      "cell_type": "markdown",
      "metadata": {
        "id": "SE-vcokt_RoC"
      },
      "source": [
        "### 2.1.8 Normalize image [0, 16]"
      ]
    },
    {
      "cell_type": "code",
      "source": [
        "result"
      ],
      "metadata": {
        "colab": {
          "base_uri": "https://localhost:8080/"
        },
        "id": "cuXh4uImhY5X",
        "outputId": "0ff44ca2-9452-481d-909f-6569c5614b6f"
      },
      "execution_count": null,
      "outputs": [
        {
          "output_type": "execute_result",
          "data": {
            "text/plain": [
              "array([[ 0,  0,  5, 32, 11,  0,  0,  0],\n",
              "       [ 0,  5, 33, 10,  4,  0,  0,  0],\n",
              "       [ 0, 17, 16,  0,  0,  0,  0,  0],\n",
              "       [ 0, 35,  7, 38, 36,  9,  0,  0],\n",
              "       [ 0, 44, 47,  8,  4, 32,  9,  0],\n",
              "       [ 0, 17, 27,  0,  0, 19, 22,  0],\n",
              "       [ 0,  4, 31, 33, 56, 62, 15,  0],\n",
              "       [ 0,  0,  4,  7, 13, 11,  1,  0]], dtype=uint8)"
            ]
          },
          "metadata": {},
          "execution_count": 236
        }
      ]
    },
    {
      "cell_type": "code",
      "metadata": {
        "id": "dWh3Z_WN_O19",
        "colab": {
          "base_uri": "https://localhost:8080/"
        },
        "outputId": "f125fdfd-f944-4475-d232-4b86a1983728"
      },
      "source": [
        "normalized = cv2.normalize(result, None, alpha=0, beta=16, norm_type=cv2.NORM_MINMAX, dtype=cv2.CV_32S)\n",
        "normalized"
      ],
      "execution_count": null,
      "outputs": [
        {
          "output_type": "execute_result",
          "data": {
            "text/plain": [
              "array([[ 0,  0,  1,  8,  3,  0,  0,  0],\n",
              "       [ 0,  1,  9,  3,  1,  0,  0,  0],\n",
              "       [ 0,  4,  4,  0,  0,  0,  0,  0],\n",
              "       [ 0,  9,  2, 10,  9,  2,  0,  0],\n",
              "       [ 0, 11, 12,  2,  1,  8,  2,  0],\n",
              "       [ 0,  4,  7,  0,  0,  5,  6,  0],\n",
              "       [ 0,  1,  8,  9, 14, 16,  4,  0],\n",
              "       [ 0,  0,  1,  2,  3,  3,  0,  0]], dtype=int32)"
            ]
          },
          "metadata": {},
          "execution_count": 237
        }
      ]
    },
    {
      "cell_type": "markdown",
      "metadata": {
        "id": "SBuvdgHvIH98"
      },
      "source": [
        "### 2.1.9 Làm đậm"
      ]
    },
    {
      "cell_type": "code",
      "metadata": {
        "id": "ZgPrFAv0Li3J"
      },
      "source": [
        "def make_bold(img):\n",
        "  bold = img.copy()\n",
        "  for i in range(bold.shape[0]):\n",
        "    for j in range(bold.shape[1]):\n",
        "      if bold[i][j] >= 3 :\n",
        "        bold[i][j] += 5\n",
        "      if bold[i][j] > 16:\n",
        "        bold[i][j] = 16\n",
        "  return bold\n",
        "\n",
        "bold = make_bold(normalized)"
      ],
      "execution_count": null,
      "outputs": []
    },
    {
      "cell_type": "code",
      "metadata": {
        "colab": {
          "base_uri": "https://localhost:8080/",
          "height": 437
        },
        "id": "Ph-nciMyFtPB",
        "outputId": "d15ebc91-0e09-46f2-fb8c-d1deaa26a65a"
      },
      "source": [
        "show_2img_bi(normalized, bold, \"before\", \"after\")\n",
        "show_2img_bi(bold, digits.images[6], \"after\", \"data\")"
      ],
      "execution_count": null,
      "outputs": [
        {
          "output_type": "display_data",
          "data": {
            "image/png": "[encoded data removed]",
            "text/plain": [
              "<Figure size 720x216 with 2 Axes>"
            ]
          },
          "metadata": {
            "needs_background": "light"
          }
        },
        {
          "output_type": "display_data",
          "data": {
            "image/png": "[encoded data removed]",
            "text/plain": [
              "<Figure size 720x216 with 2 Axes>"
            ]
          },
          "metadata": {
            "needs_background": "light"
          }
        }
      ]
    },
    {
      "cell_type": "markdown",
      "metadata": {
        "id": "KcuTHIWRBHR9"
      },
      "source": [
        "### 2.1.10 Flatten"
      ]
    },
    {
      "cell_type": "code",
      "metadata": {
        "colab": {
          "base_uri": "https://localhost:8080/"
        },
        "id": "DE8p6UhzBFkT",
        "outputId": "3b6d6a80-0664-44b6-b022-26bdbea362fc"
      },
      "source": [
        "flatten = bold.reshape((1, -1))\n",
        "flatten"
      ],
      "execution_count": null,
      "outputs": [
        {
          "output_type": "execute_result",
          "data": {
            "text/plain": [
              "array([[ 0,  0,  1, 13,  8,  0,  0,  0,  0,  1, 14,  8,  1,  0,  0,  0,\n",
              "         0,  9,  9,  0,  0,  0,  0,  0,  0, 14,  2, 15, 14,  2,  0,  0,\n",
              "         0, 16, 16,  2,  1, 13,  2,  0,  0,  9, 12,  0,  0, 10, 11,  0,\n",
              "         0,  1, 13, 14, 16, 16,  9,  0,  0,  0,  1,  2,  8,  8,  0,  0]],\n",
              "      dtype=int32)"
            ]
          },
          "metadata": {},
          "execution_count": 240
        }
      ]
    },
    {
      "cell_type": "markdown",
      "source": [
        "## **2.2 Predict**"
      ],
      "metadata": {
        "id": "nVQBtXLAkiQa"
      }
    },
    {
      "cell_type": "code",
      "source": [
        "clf.predict(flatten)"
      ],
      "metadata": {
        "colab": {
          "base_uri": "https://localhost:8080/"
        },
        "id": "hd8Ti0wnkpil",
        "outputId": "376a66a1-539d-459f-accc-7fb6a7680b3a"
      },
      "execution_count": null,
      "outputs": [
        {
          "output_type": "execute_result",
          "data": {
            "text/plain": [
              "array([6])"
            ]
          },
          "metadata": {},
          "execution_count": 241
        }
      ]
    },
    {
      "cell_type": "markdown",
      "metadata": {
        "id": "VkmyV76n8Gzi"
      },
      "source": [
        "# **3. Thực nghiệm**"
      ]
    },
    {
      "cell_type": "code",
      "metadata": {
        "colab": {
          "base_uri": "https://localhost:8080/"
        },
        "id": "7nvAI66Rtcpp",
        "outputId": "991af1ee-012d-4de3-b34f-743771efa091"
      },
      "source": [
        "from google.colab import drive\n",
        "drive.mount('/content/drive/')"
      ],
      "execution_count": null,
      "outputs": [
        {
          "output_type": "stream",
          "name": "stdout",
          "text": [
            "Drive already mounted at /content/drive/; to attempt to forcibly remount, call drive.mount(\"/content/drive/\", force_remount=True).\n"
          ]
        }
      ]
    },
    {
      "cell_type": "code",
      "metadata": {
        "id": "OkrS_pIdxDQZ"
      },
      "source": [
        "dir = '/content/drive/MyDrive/CS114'\n",
        "# tham số để tăng độ sáng và độ tương phản\n",
        "alpha, beta = 1.5, 30\n",
        "arr_file_name = []"
      ],
      "execution_count": null,
      "outputs": []
    },
    {
      "cell_type": "code",
      "metadata": {
        "id": "Yn1IBcOWxOeL"
      },
      "source": [
        "def predict_from_directory(path_dir):\n",
        "  arr_predict, arr_true = [], []\n",
        "  \n",
        "  for file_name in os.listdir(path_dir):\n",
        "    \n",
        "    # read image\n",
        "    img = cv2.imread(os.path.join(path_dir, file_name))\n",
        "\n",
        "    # smoothing image\n",
        "    blured = cv2.GaussianBlur(img, (5, 5), 0) \n",
        "\n",
        "    # brightness and contract\n",
        "    bright_and_constract =cv2.addWeighted(blured,alpha,np.zeros(blured.shape, blured.dtype),\n",
        "                                          0,beta)\n",
        "\n",
        "    # convert to grayscale\n",
        "    gray = cv2.cvtColor(bright_and_constract, cv2.COLOR_BGR2GRAY)\n",
        "\n",
        "    # threshold\n",
        "    _, thresh_hold = cv2.threshold(gray, 190, 255, cv2.THRESH_BINARY_INV)\n",
        "\n",
        "    # crop image\n",
        "    crop = crop_image(thresh_hold)\n",
        "    \n",
        "    # resize về size = (6, 8)\n",
        "    resize = resize_many_times_6x8(crop)\n",
        "\n",
        "    # Nomarlize về khoảng [0, 16]\n",
        "    normalized = cv2.normalize(resize, None, alpha=0, beta=16, norm_type=cv2.NORM_MINMAX, dtype=cv2.CV_32S)\n",
        "    \n",
        "    # Làm đậm nét\n",
        "    bold = make_bold(normalized)\n",
        "  \n",
        "    # Thêm padding để đủ size (8, 8)\n",
        "    bold_add_padding = add_padding(bold)\n",
        " \n",
        "    # Plot ảnh\n",
        "    plt.figure(figsize=(3, 3))\n",
        "    plt.imshow(bold_add_padding, cmap=plt.cm.gray_r, interpolation=\"nearest\")\n",
        "    plt.show()\n",
        "\n",
        "    # Flatten\n",
        "    flatten = bold_add_padding.reshape((1, -1))\n",
        "\n",
        "    # Predict\n",
        "    predict = clf.predict(flatten)[0]\n",
        "\n",
        "    true = file_name.split('_')[-1].split('.')[0]\n",
        "    \n",
        "    arr_file_name.append(file_name)\n",
        "\n",
        "    arr_true.append(int(true))\n",
        "    arr_predict.append(predict)\n",
        "    print(\"true: {}, predict {}, file name {}\".format(true, predict, file_name))\n",
        "  return arr_true, arr_predict"
      ],
      "execution_count": null,
      "outputs": []
    },
    {
      "cell_type": "code",
      "metadata": {
        "colab": {
          "base_uri": "https://localhost:8080/",
          "height": 1000
        },
        "id": "Frrj8vF8yKLk",
        "outputId": "ed5406f8-9564-458d-f6cf-db03f67f9f1f"
      },
      "source": [
        "true, predict = predict_from_directory(dir)"
      ],
      "execution_count": null,
      "outputs": [
        {
          "output_type": "display_data",
          "data": {
            "image/png": "[encoded data removed]",
            "text/plain": [
              "<Figure size 216x216 with 1 Axes>"
            ]
          },
          "metadata": {
            "needs_background": "light"
          }
        },
        {
          "output_type": "stream",
          "name": "stdout",
          "text": [
            "true: 0, predict 0, file name Vinh_0.jpg\n"
          ]
        },
        {
          "output_type": "display_data",
          "data": {
            "image/png": "[encoded data removed]",
            "text/plain": [
              "<Figure size 216x216 with 1 Axes>"
            ]
          },
          "metadata": {
            "needs_background": "light"
          }
        },
        {
          "output_type": "stream",
          "name": "stdout",
          "text": [
            "true: 1, predict 1, file name Vinh_1.jpg\n"
          ]
        },
        {
          "output_type": "display_data",
          "data": {
            "image/png": "[encoded data removed]",
            "text/plain": [
              "<Figure size 216x216 with 1 Axes>"
            ]
          },
          "metadata": {
            "needs_background": "light"
          }
        },
        {
          "output_type": "stream",
          "name": "stdout",
          "text": [
            "true: 2, predict 2, file name Vinh_2.jpg\n"
          ]
        },
        {
          "output_type": "display_data",
          "data": {
            "image/png": "[encoded data removed]",
            "text/plain": [
              "<Figure size 216x216 with 1 Axes>"
            ]
          },
          "metadata": {
            "needs_background": "light"
          }
        },
        {
          "output_type": "stream",
          "name": "stdout",
          "text": [
            "true: 3, predict 3, file name Vinh_3.jpg\n"
          ]
        },
        {
          "output_type": "display_data",
          "data": {
            "image/png": "[encoded data removed]",
            "text/plain": [
              "<Figure size 216x216 with 1 Axes>"
            ]
          },
          "metadata": {
            "needs_background": "light"
          }
        },
        {
          "output_type": "stream",
          "name": "stdout",
          "text": [
            "true: 4, predict 4, file name Vinh_4.jpg\n"
          ]
        },
        {
          "output_type": "display_data",
          "data": {
            "image/png": "[encoded data removed]",
            "text/plain": [
              "<Figure size 216x216 with 1 Axes>"
            ]
          },
          "metadata": {
            "needs_background": "light"
          }
        },
        {
          "output_type": "stream",
          "name": "stdout",
          "text": [
            "true: 5, predict 5, file name Vinh_5.jpg\n"
          ]
        },
        {
          "output_type": "display_data",
          "data": {
            "image/png": "[encoded data removed]",
            "text/plain": [
              "<Figure size 216x216 with 1 Axes>"
            ]
          },
          "metadata": {
            "needs_background": "light"
          }
        },
        {
          "output_type": "stream",
          "name": "stdout",
          "text": [
            "true: 6, predict 6, file name Vinh_6.jpg\n"
          ]
        },
        {
          "output_type": "display_data",
          "data": {
            "image/png": "[encoded data removed]",
            "text/plain": [
              "<Figure size 216x216 with 1 Axes>"
            ]
          },
          "metadata": {
            "needs_background": "light"
          }
        },
        {
          "output_type": "stream",
          "name": "stdout",
          "text": [
            "true: 7, predict 7, file name Vinh_7.jpg\n"
          ]
        },
        {
          "output_type": "display_data",
          "data": {
            "image/png": "[encoded data removed]",
            "text/plain": [
              "<Figure size 216x216 with 1 Axes>"
            ]
          },
          "metadata": {
            "needs_background": "light"
          }
        },
        {
          "output_type": "stream",
          "name": "stdout",
          "text": [
            "true: 8, predict 8, file name Vinh_8.jpg\n"
          ]
        },
        {
          "output_type": "display_data",
          "data": {
            "image/png": "[encoded data removed]",
            "text/plain": [
              "<Figure size 216x216 with 1 Axes>"
            ]
          },
          "metadata": {
            "needs_background": "light"
          }
        },
        {
          "output_type": "stream",
          "name": "stdout",
          "text": [
            "true: 9, predict 9, file name Vinh_9.jpg\n"
          ]
        },
        {
          "output_type": "display_data",
          "data": {
            "image/png": "[encoded data removed]",
            "text/plain": [
              "<Figure size 216x216 with 1 Axes>"
            ]
          },
          "metadata": {
            "needs_background": "light"
          }
        },
        {
          "output_type": "stream",
          "name": "stdout",
          "text": [
            "true: 0, predict 9, file name Minh_0.jpg\n"
          ]
        },
        {
          "output_type": "display_data",
          "data": {
            "image/png": "[encoded data removed]",
            "text/plain": [
              "<Figure size 216x216 with 1 Axes>"
            ]
          },
          "metadata": {
            "needs_background": "light"
          }
        },
        {
          "output_type": "stream",
          "name": "stdout",
          "text": [
            "true: 1, predict 1, file name Minh_1.jpg\n"
          ]
        },
        {
          "output_type": "display_data",
          "data": {
            "image/png": "[encoded data removed]",
            "text/plain": [
              "<Figure size 216x216 with 1 Axes>"
            ]
          },
          "metadata": {
            "needs_background": "light"
          }
        },
        {
          "output_type": "stream",
          "name": "stdout",
          "text": [
            "true: 2, predict 4, file name Minh_2.jpg\n"
          ]
        },
        {
          "output_type": "display_data",
          "data": {
            "image/png": "[encoded data removed]",
            "text/plain": [
              "<Figure size 216x216 with 1 Axes>"
            ]
          },
          "metadata": {
            "needs_background": "light"
          }
        },
        {
          "output_type": "stream",
          "name": "stdout",
          "text": [
            "true: 3, predict 3, file name Minh_3.jpg\n"
          ]
        },
        {
          "output_type": "display_data",
          "data": {
            "image/png": "[encoded data removed]",
            "text/plain": [
              "<Figure size 216x216 with 1 Axes>"
            ]
          },
          "metadata": {
            "needs_background": "light"
          }
        },
        {
          "output_type": "stream",
          "name": "stdout",
          "text": [
            "true: 5, predict 1, file name Minh_5.jpg\n"
          ]
        },
        {
          "output_type": "display_data",
          "data": {
            "image/png": "[encoded data removed]",
            "text/plain": [
              "<Figure size 216x216 with 1 Axes>"
            ]
          },
          "metadata": {
            "needs_background": "light"
          }
        },
        {
          "output_type": "stream",
          "name": "stdout",
          "text": [
            "true: 6, predict 6, file name Minh_6.jpg\n"
          ]
        },
        {
          "output_type": "display_data",
          "data": {
            "image/png": "[encoded data removed]",
            "text/plain": [
              "<Figure size 216x216 with 1 Axes>"
            ]
          },
          "metadata": {
            "needs_background": "light"
          }
        },
        {
          "output_type": "stream",
          "name": "stdout",
          "text": [
            "true: 7, predict 7, file name Minh_7.jpg\n"
          ]
        },
        {
          "output_type": "display_data",
          "data": {
            "image/png": "[encoded data removed]",
            "text/plain": [
              "<Figure size 216x216 with 1 Axes>"
            ]
          },
          "metadata": {
            "needs_background": "light"
          }
        },
        {
          "output_type": "stream",
          "name": "stdout",
          "text": [
            "true: 8, predict 1, file name Minh_8.jpg\n"
          ]
        },
        {
          "output_type": "display_data",
          "data": {
            "image/png": "[encoded data removed]",
            "text/plain": [
              "<Figure size 216x216 with 1 Axes>"
            ]
          },
          "metadata": {
            "needs_background": "light"
          }
        },
        {
          "output_type": "stream",
          "name": "stdout",
          "text": [
            "true: 9, predict 1, file name Minh_9.jpg\n"
          ]
        },
        {
          "output_type": "display_data",
          "data": {
            "image/png": "[encoded data removed]",
            "text/plain": [
              "<Figure size 216x216 with 1 Axes>"
            ]
          },
          "metadata": {
            "needs_background": "light"
          }
        },
        {
          "output_type": "stream",
          "name": "stdout",
          "text": [
            "true: 4, predict 4, file name Minh_4.jpg\n"
          ]
        },
        {
          "output_type": "display_data",
          "data": {
            "image/png": "[encoded data removed]",
            "text/plain": [
              "<Figure size 216x216 with 1 Axes>"
            ]
          },
          "metadata": {
            "needs_background": "light"
          }
        },
        {
          "output_type": "stream",
          "name": "stdout",
          "text": [
            "true: 0, predict 0, file name Danh_0.JPG\n"
          ]
        },
        {
          "output_type": "display_data",
          "data": {
            "image/png": "[encoded data removed]",
            "text/plain": [
              "<Figure size 216x216 with 1 Axes>"
            ]
          },
          "metadata": {
            "needs_background": "light"
          }
        },
        {
          "output_type": "stream",
          "name": "stdout",
          "text": [
            "true: 1, predict 1, file name Danh_1.JPG\n"
          ]
        },
        {
          "output_type": "display_data",
          "data": {
            "image/png": "[encoded data removed]",
            "text/plain": [
              "<Figure size 216x216 with 1 Axes>"
            ]
          },
          "metadata": {
            "needs_background": "light"
          }
        },
        {
          "output_type": "stream",
          "name": "stdout",
          "text": [
            "true: 3, predict 7, file name Danh_3.JPG\n"
          ]
        },
        {
          "output_type": "display_data",
          "data": {
            "image/png": "[encoded data removed]",
            "text/plain": [
              "<Figure size 216x216 with 1 Axes>"
            ]
          },
          "metadata": {
            "needs_background": "light"
          }
        },
        {
          "output_type": "stream",
          "name": "stdout",
          "text": [
            "true: 2, predict 4, file name Danh_2.JPG\n"
          ]
        },
        {
          "output_type": "display_data",
          "data": {
            "image/png": "[encoded data removed]",
            "text/plain": [
              "<Figure size 216x216 with 1 Axes>"
            ]
          },
          "metadata": {
            "needs_background": "light"
          }
        },
        {
          "output_type": "stream",
          "name": "stdout",
          "text": [
            "true: 5, predict 1, file name Danh_5.JPG\n"
          ]
        },
        {
          "output_type": "display_data",
          "data": {
            "image/png": "[encoded data removed]",
            "text/plain": [
              "<Figure size 216x216 with 1 Axes>"
            ]
          },
          "metadata": {
            "needs_background": "light"
          }
        },
        {
          "output_type": "stream",
          "name": "stdout",
          "text": [
            "true: 4, predict 1, file name Danh_4.JPG\n"
          ]
        },
        {
          "output_type": "display_data",
          "data": {
            "image/png": "[encoded data removed]",
            "text/plain": [
              "<Figure size 216x216 with 1 Axes>"
            ]
          },
          "metadata": {
            "needs_background": "light"
          }
        },
        {
          "output_type": "stream",
          "name": "stdout",
          "text": [
            "true: 6, predict 1, file name Danh_6.JPG\n"
          ]
        },
        {
          "output_type": "display_data",
          "data": {
            "image/png": "[encoded data removed]",
            "text/plain": [
              "<Figure size 216x216 with 1 Axes>"
            ]
          },
          "metadata": {
            "needs_background": "light"
          }
        },
        {
          "output_type": "stream",
          "name": "stdout",
          "text": [
            "true: 8, predict 9, file name Danh_8.JPG\n"
          ]
        },
        {
          "output_type": "display_data",
          "data": {
            "image/png": "[encoded data removed]",
            "text/plain": [
              "<Figure size 216x216 with 1 Axes>"
            ]
          },
          "metadata": {
            "needs_background": "light"
          }
        },
        {
          "output_type": "stream",
          "name": "stdout",
          "text": [
            "true: 7, predict 4, file name Danh_7.JPG\n"
          ]
        },
        {
          "output_type": "display_data",
          "data": {
            "image/png": "[encoded data removed]",
            "text/plain": [
              "<Figure size 216x216 with 1 Axes>"
            ]
          },
          "metadata": {
            "needs_background": "light"
          }
        },
        {
          "output_type": "stream",
          "name": "stdout",
          "text": [
            "true: 9, predict 9, file name Danh_9.JPG\n"
          ]
        }
      ]
    },
    {
      "cell_type": "markdown",
      "source": [
        "# **4. Đánh giá kết quả thực nghiệm**"
      ],
      "metadata": {
        "id": "ljCWKWx_1nRS"
      }
    },
    {
      "cell_type": "code",
      "source": [
        "print(\n",
        "    f\"Classification report for classifier {clf}:\\n\"\n",
        "    f\"{metrics.classification_report(true, predict)}\\n\"\n",
        ")"
      ],
      "metadata": {
        "colab": {
          "base_uri": "https://localhost:8080/"
        },
        "id": "Zs4mYnb9zK9z",
        "outputId": "bb060777-1877-4e23-9a1a-3096f034f6f2"
      },
      "execution_count": null,
      "outputs": [
        {
          "output_type": "stream",
          "name": "stdout",
          "text": [
            "Classification report for classifier SVC(gamma=0.001):\n",
            "              precision    recall  f1-score   support\n",
            "\n",
            "           0       1.00      0.67      0.80         3\n",
            "           1       0.33      1.00      0.50         3\n",
            "           2       1.00      0.33      0.50         3\n",
            "           3       1.00      0.67      0.80         3\n",
            "           4       0.40      0.67      0.50         3\n",
            "           5       1.00      0.33      0.50         3\n",
            "           6       1.00      0.67      0.80         3\n",
            "           7       0.67      0.67      0.67         3\n",
            "           8       1.00      0.33      0.50         3\n",
            "           9       0.50      0.67      0.57         3\n",
            "\n",
            "    accuracy                           0.60        30\n",
            "   macro avg       0.79      0.60      0.61        30\n",
            "weighted avg       0.79      0.60      0.61        30\n",
            "\n",
            "\n"
          ]
        }
      ]
    },
    {
      "cell_type": "code",
      "source": [
        "disp = metrics.ConfusionMatrixDisplay.from_predictions(true, predict)\n",
        "disp.figure_.suptitle(\"Confusion Matrix\")\n",
        "print(f\"Confusion matrix:\\n{disp.confusion_matrix}\")\n",
        "\n",
        "plt.show()"
      ],
      "metadata": {
        "colab": {
          "base_uri": "https://localhost:8080/",
          "height": 499
        },
        "id": "j7YeFfo3y-dU",
        "outputId": "3c7dd2d0-aac4-4637-8764-b030c615e1cf"
      },
      "execution_count": null,
      "outputs": [
        {
          "output_type": "stream",
          "name": "stdout",
          "text": [
            "Confusion matrix:\n",
            "[[2 0 0 0 0 0 0 0 0 1]\n",
            " [0 3 0 0 0 0 0 0 0 0]\n",
            " [0 0 1 0 2 0 0 0 0 0]\n",
            " [0 0 0 2 0 0 0 1 0 0]\n",
            " [0 1 0 0 2 0 0 0 0 0]\n",
            " [0 2 0 0 0 1 0 0 0 0]\n",
            " [0 1 0 0 0 0 2 0 0 0]\n",
            " [0 0 0 0 1 0 0 2 0 0]\n",
            " [0 1 0 0 0 0 0 0 1 1]\n",
            " [0 1 0 0 0 0 0 0 0 2]]\n"
          ]
        },
        {
          "output_type": "display_data",
          "data": {
            "image/png": "[encoded data removed]",
            "text/plain": [
              "<Figure size 432x288 with 2 Axes>"
            ]
          },
          "metadata": {
            "needs_background": "light"
          }
        }
      ]
    },
    {
      "cell_type": "code",
      "source": [
        "dic = {\"Vinh\" : [[], []],\n",
        "       \"Danh\" : [[], []],\n",
        "       \"Minh\": [[], []]}\n",
        "acc_score = []"
      ],
      "metadata": {
        "id": "w7VZE_MvuEFT"
      },
      "execution_count": null,
      "outputs": []
    },
    {
      "cell_type": "code",
      "source": [
        "for file_name, predict_value in zip(arr_file_name, predict):\n",
        "  name = file_name.split('_')[0]\n",
        "  true_value = file_name.split('_')[-1].split('.')[0]\n",
        "\n",
        "  dic[str(name)][0].append(int(true_value))\n",
        "  dic[str(name)][1].append(predict_value)"
      ],
      "metadata": {
        "id": "7cJYHFCJt3Ws"
      },
      "execution_count": null,
      "outputs": []
    },
    {
      "cell_type": "code",
      "source": [
        "dic"
      ],
      "metadata": {
        "colab": {
          "base_uri": "https://localhost:8080/"
        },
        "id": "NDC8rMEavXnh",
        "outputId": "100caa8c-c994-4627-bfaa-a4309bffe36e"
      },
      "execution_count": null,
      "outputs": [
        {
          "output_type": "execute_result",
          "data": {
            "text/plain": [
              "{'Danh': [[0, 1, 3, 2, 5, 4, 6, 8, 7, 9], [0, 1, 7, 4, 1, 1, 1, 9, 4, 9]],\n",
              " 'Minh': [[0, 1, 2, 3, 5, 6, 7, 8, 9, 4], [9, 1, 4, 3, 1, 6, 7, 1, 1, 4]],\n",
              " 'Vinh': [[0, 1, 2, 3, 4, 5, 6, 7, 8, 9], [0, 1, 2, 3, 4, 5, 6, 7, 8, 9]]}"
            ]
          },
          "metadata": {},
          "execution_count": 296
        }
      ]
    },
    {
      "cell_type": "code",
      "source": [
        "for key, value in dic.items():\n",
        "  print(\"Owner: \", key)\n",
        "  print(\n",
        "    f\"Classification report for classifier {clf}:\\n\"\n",
        "    f\"{metrics.classification_report(value[0], value[1])}\\n\"\n",
        "  )\n",
        "  acc_score.append(metrics.accuracy_score(value[0], value[1]))"
      ],
      "metadata": {
        "colab": {
          "base_uri": "https://localhost:8080/"
        },
        "id": "PixCe0DJ0PGv",
        "outputId": "a1ade65d-3981-4f76-b9c0-45fddf077725"
      },
      "execution_count": null,
      "outputs": [
        {
          "output_type": "stream",
          "name": "stdout",
          "text": [
            "Owner:  Vinh\n",
            "Classification report for classifier SVC(gamma=0.001):\n",
            "              precision    recall  f1-score   support\n",
            "\n",
            "           0       1.00      1.00      1.00         1\n",
            "           1       1.00      1.00      1.00         1\n",
            "           2       1.00      1.00      1.00         1\n",
            "           3       1.00      1.00      1.00         1\n",
            "           4       1.00      1.00      1.00         1\n",
            "           5       1.00      1.00      1.00         1\n",
            "           6       1.00      1.00      1.00         1\n",
            "           7       1.00      1.00      1.00         1\n",
            "           8       1.00      1.00      1.00         1\n",
            "           9       1.00      1.00      1.00         1\n",
            "\n",
            "    accuracy                           1.00        10\n",
            "   macro avg       1.00      1.00      1.00        10\n",
            "weighted avg       1.00      1.00      1.00        10\n",
            "\n",
            "\n",
            "Owner:  Danh\n",
            "Classification report for classifier SVC(gamma=0.001):\n",
            "              precision    recall  f1-score   support\n",
            "\n",
            "           0       1.00      1.00      1.00         1\n",
            "           1       0.25      1.00      0.40         1\n",
            "           2       0.00      0.00      0.00         1\n",
            "           3       0.00      0.00      0.00         1\n",
            "           4       0.00      0.00      0.00         1\n",
            "           5       0.00      0.00      0.00         1\n",
            "           6       0.00      0.00      0.00         1\n",
            "           7       0.00      0.00      0.00         1\n",
            "           8       0.00      0.00      0.00         1\n",
            "           9       0.50      1.00      0.67         1\n",
            "\n",
            "    accuracy                           0.30        10\n",
            "   macro avg       0.17      0.30      0.21        10\n",
            "weighted avg       0.17      0.30      0.21        10\n",
            "\n",
            "\n",
            "Owner:  Minh\n",
            "Classification report for classifier SVC(gamma=0.001):\n",
            "              precision    recall  f1-score   support\n",
            "\n",
            "           0       0.00      0.00      0.00         1\n",
            "           1       0.25      1.00      0.40         1\n",
            "           2       0.00      0.00      0.00         1\n",
            "           3       1.00      1.00      1.00         1\n",
            "           4       0.50      1.00      0.67         1\n",
            "           5       0.00      0.00      0.00         1\n",
            "           6       1.00      1.00      1.00         1\n",
            "           7       1.00      1.00      1.00         1\n",
            "           8       0.00      0.00      0.00         1\n",
            "           9       0.00      0.00      0.00         1\n",
            "\n",
            "    accuracy                           0.50        10\n",
            "   macro avg       0.38      0.50      0.41        10\n",
            "weighted avg       0.38      0.50      0.41        10\n",
            "\n",
            "\n"
          ]
        },
        {
          "output_type": "stream",
          "name": "stderr",
          "text": [
            "/usr/local/lib/python3.7/dist-packages/sklearn/metrics/_classification.py:1308: UndefinedMetricWarning: Precision and F-score are ill-defined and being set to 0.0 in labels with no predicted samples. Use `zero_division` parameter to control this behavior.\n",
            "  _warn_prf(average, modifier, msg_start, len(result))\n",
            "/usr/local/lib/python3.7/dist-packages/sklearn/metrics/_classification.py:1308: UndefinedMetricWarning: Precision and F-score are ill-defined and being set to 0.0 in labels with no predicted samples. Use `zero_division` parameter to control this behavior.\n",
            "  _warn_prf(average, modifier, msg_start, len(result))\n",
            "/usr/local/lib/python3.7/dist-packages/sklearn/metrics/_classification.py:1308: UndefinedMetricWarning: Precision and F-score are ill-defined and being set to 0.0 in labels with no predicted samples. Use `zero_division` parameter to control this behavior.\n",
            "  _warn_prf(average, modifier, msg_start, len(result))\n",
            "/usr/local/lib/python3.7/dist-packages/sklearn/metrics/_classification.py:1308: UndefinedMetricWarning: Precision and F-score are ill-defined and being set to 0.0 in labels with no predicted samples. Use `zero_division` parameter to control this behavior.\n",
            "  _warn_prf(average, modifier, msg_start, len(result))\n",
            "/usr/local/lib/python3.7/dist-packages/sklearn/metrics/_classification.py:1308: UndefinedMetricWarning: Precision and F-score are ill-defined and being set to 0.0 in labels with no predicted samples. Use `zero_division` parameter to control this behavior.\n",
            "  _warn_prf(average, modifier, msg_start, len(result))\n",
            "/usr/local/lib/python3.7/dist-packages/sklearn/metrics/_classification.py:1308: UndefinedMetricWarning: Precision and F-score are ill-defined and being set to 0.0 in labels with no predicted samples. Use `zero_division` parameter to control this behavior.\n",
            "  _warn_prf(average, modifier, msg_start, len(result))\n"
          ]
        }
      ]
    },
    {
      "cell_type": "code",
      "source": [
        "name = ['Vinh', 'Danh', 'Minh']\n",
        "plt.bar(name, acc_score)\n",
        "plt.show()"
      ],
      "metadata": {
        "colab": {
          "base_uri": "https://localhost:8080/",
          "height": 265
        },
        "id": "q0MINJSO0-h5",
        "outputId": "61e3a626-8fc3-434c-8530-58eeb610072b"
      },
      "execution_count": null,
      "outputs": [
        {
          "output_type": "display_data",
          "data": {
            "image/png": "[encoded data removed]",
            "text/plain": [
              "<Figure size 432x288 with 1 Axes>"
            ]
          },
          "metadata": {
            "needs_background": "light"
          }
        }
      ]
    },
    {
      "cell_type": "markdown",
      "source": [
        "# **5. Nhận xét và đánh giá kết quả thực nghiệm**\n"
      ],
      "metadata": {
        "id": "7GC5h7Z647CX"
      }
    },
    {
      "cell_type": "markdown",
      "source": [
        "Đánh giá trên toàn bộ 30 ảnh:\n",
        " - Mô hình nhận diện đúng 18/30 ảnh\n",
        " - Điểm accuracy: 0.60\n",
        "    + So với kết quả khi đánh giá trên tập test thì tệ hơn rất nhiều\n",
        "    + Lý do trong tập ảnh thử nghiệm có những ảnh có nhiễu, nét chữ mờ làm cho kết quả tiền xử lý không tốt dẫn đến mô hình nhận diện sai.\n",
        "---\n",
        "Đánh giá bộ dữ liệu thử nghiệm của từng thành viên⁉\n",
        "- Vinh: accuracy - 1.00\n",
        "- Danh: accuracy - 0.30\n",
        "- Minh: accuracy - 0.5\n",
        "\n",
        "Bộ dữ liệu của bạn Vinh gồm những hình ảnh rõ nét, ít nhiễu cho kết quả tốt nhất. <br>\n",
        "Bộ dữ liệu của bạn Danh gồm những hình ảnh có chữ số nhỏ, nhiều chi tiết nhiễu cho kết quả tệ nhất. <br>\n",
        "Bộ dữ liệu của bạn Minh gồm những hình ảnh có nét chữ hơi mờ, chữ số to vừa phải, không có nhiễu cho kết quả trung bình."
      ],
      "metadata": {
        "id": "p9A67Mj75QgV"
      }
    }
  ]
}