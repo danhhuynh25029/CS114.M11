{
 "cells": [
  {
   "cell_type": "markdown",
   "metadata": {
    "id": "y6b706788FMh"
   },
   "source": [
    "# CS114.M11 - Máy học\n",
    "---\n",
    "### 19521322 - Huỳnh Ngọn Công Danh\n",
    "### 19521858 - Võ Tuấn Minh\n",
    "### 19522524 - Nguyễn Phú Vinh"
   ]
  },
  {
   "cell_type": "markdown",
   "metadata": {
    "id": "bxy93S1q_c2K"
   },
   "source": [
    "# Tải dữ liệu"
   ]
  },
  {
   "cell_type": "code",
   "execution_count": 39,
   "metadata": {
    "colab": {
     "base_uri": "https://localhost:8080/"
    },
    "id": "EcPjuLgI9UTr",
    "outputId": "8fd0d67b-535e-4524-a7eb-47c06485890c"
   },
   "outputs": [
    {
     "name": "stdout",
     "output_type": "stream",
     "text": [
      "--2021-11-30 12:18:06--  https://cs.uit.edu.vn/data2.txt\n",
      "Resolving cs.uit.edu.vn (cs.uit.edu.vn)... 45.122.249.78, 118.69.123.142\n",
      "Connecting to cs.uit.edu.vn (cs.uit.edu.vn)|45.122.249.78|:443... connected.\n",
      "HTTP request sent, awaiting response... 200 OK\n",
      "Length: 1203726 (1.1M) [text/plain]\n",
      "Saving to: ‘data2.txt.1’\n",
      "\n",
      "data2.txt.1         100%[===================>]   1.15M  1.13MB/s    in 1.0s    \n",
      "\n",
      "2021-11-30 12:18:09 (1.13 MB/s) - ‘data2.txt.1’ saved [1203726/1203726]\n",
      "\n",
      "--2021-11-30 12:18:09--  https://cs.uit.edu.vn/data3.txt\n",
      "Resolving cs.uit.edu.vn (cs.uit.edu.vn)... 45.122.249.78, 118.69.123.142\n",
      "Connecting to cs.uit.edu.vn (cs.uit.edu.vn)|45.122.249.78|:443... connected.\n",
      "HTTP request sent, awaiting response... 200 OK\n",
      "Length: 178891 (175K) [text/plain]\n",
      "Saving to: ‘data3.txt.1’\n",
      "\n",
      "data3.txt.1         100%[===================>] 174.70K   441KB/s    in 0.4s    \n",
      "\n",
      "2021-11-30 12:18:10 (441 KB/s) - ‘data3.txt.1’ saved [178891/178891]\n",
      "\n",
      "--2021-11-30 12:18:10--  https://cs.uit.edu.vn/data4.txt\n",
      "Resolving cs.uit.edu.vn (cs.uit.edu.vn)... 45.122.249.78, 118.69.123.142\n",
      "Connecting to cs.uit.edu.vn (cs.uit.edu.vn)|45.122.249.78|:443... connected.\n",
      "HTTP request sent, awaiting response... 200 OK\n",
      "Length: 101704 (99K) [text/plain]\n",
      "Saving to: ‘data4.txt’\n",
      "\n",
      "data4.txt           100%[===================>]  99.32K   246KB/s    in 0.4s    \n",
      "\n",
      "2021-11-30 12:18:12 (246 KB/s) - ‘data4.txt’ saved [101704/101704]\n",
      "\n"
     ]
    }
   ],
   "source": [
    "!wget https://cs.uit.edu.vn/data2.txt\n",
    "!wget https://cs.uit.edu.vn/data3.txt\n",
    "!wget https://cs.uit.edu.vn/data4.txt"
   ]
  },
  {
   "cell_type": "markdown",
   "metadata": {
    "id": "OGwxijUmjYyL"
   },
   "source": [
    "# Import thư viện"
   ]
  },
  {
   "cell_type": "code",
   "execution_count": 2,
   "metadata": {
    "id": "3h-OOMD6CAFD"
   },
   "outputs": [],
   "source": [
    "import pandas as pd\n",
    "import matplotlib.pyplot as plt\n",
    "from sklearn.linear_model import LinearRegression\n",
    "import numpy as np\n",
    "from sklearn.metrics import mean_squared_error\n",
    "from sklearn.metrics import r2_score"
   ]
  },
  {
   "cell_type": "markdown",
   "metadata": {
    "id": "WMuVZ_EajbFE"
   },
   "source": [
    "# Đọc tập train"
   ]
  },
  {
   "cell_type": "code",
   "execution_count": 104,
   "metadata": {
    "id": "b0zityYLCKpR"
   },
   "outputs": [],
   "source": [
    "df = pd.read_csv('/content/data2.txt', header=None)"
   ]
  },
  {
   "cell_type": "markdown",
   "metadata": {
    "id": "Yjrq9sfIjgat"
   },
   "source": [
    "# Plot tập train"
   ]
  },
  {
   "cell_type": "markdown",
   "metadata": {
    "id": "fsLMeXXemMGM"
   },
   "source": [
    "## Nhận xét\n",
    "Trong tập train có khoảng 71 nghìn training example, trong đó các giá trị y nằm trong khoảng từ 0.000009 - 0.983776"
   ]
  },
  {
   "cell_type": "code",
   "execution_count": 61,
   "metadata": {
    "colab": {
     "base_uri": "https://localhost:8080/",
     "height": 300
    },
    "id": "YZFwlp-Xjeu4",
    "outputId": "5ed1664c-3ae7-42fc-c366-6703cc9fcd08"
   },
   "outputs": [
    {
     "data": {
      "text/html": [
       "<div>\n",
       "<style scoped>\n",
       "    .dataframe tbody tr th:only-of-type {\n",
       "        vertical-align: middle;\n",
       "    }\n",
       "\n",
       "    .dataframe tbody tr th {\n",
       "        vertical-align: top;\n",
       "    }\n",
       "\n",
       "    .dataframe thead th {\n",
       "        text-align: right;\n",
       "    }\n",
       "</style>\n",
       "<table border=\"1\" class=\"dataframe\">\n",
       "  <thead>\n",
       "    <tr style=\"text-align: right;\">\n",
       "      <th></th>\n",
       "      <th>0</th>\n",
       "      <th>1</th>\n",
       "    </tr>\n",
       "  </thead>\n",
       "  <tbody>\n",
       "    <tr>\n",
       "      <th>count</th>\n",
       "      <td>7.111500e+04</td>\n",
       "      <td>71115.000000</td>\n",
       "    </tr>\n",
       "    <tr>\n",
       "      <th>mean</th>\n",
       "      <td>4.998766e+06</td>\n",
       "      <td>0.406785</td>\n",
       "    </tr>\n",
       "    <tr>\n",
       "      <th>std</th>\n",
       "      <td>2.882618e+06</td>\n",
       "      <td>0.244039</td>\n",
       "    </tr>\n",
       "    <tr>\n",
       "      <th>min</th>\n",
       "      <td>2.550000e+02</td>\n",
       "      <td>0.000009</td>\n",
       "    </tr>\n",
       "    <tr>\n",
       "      <th>25%</th>\n",
       "      <td>2.496521e+06</td>\n",
       "      <td>0.192746</td>\n",
       "    </tr>\n",
       "    <tr>\n",
       "      <th>50%</th>\n",
       "      <td>5.010144e+06</td>\n",
       "      <td>0.403410</td>\n",
       "    </tr>\n",
       "    <tr>\n",
       "      <th>75%</th>\n",
       "      <td>7.481742e+06</td>\n",
       "      <td>0.616155</td>\n",
       "    </tr>\n",
       "    <tr>\n",
       "      <th>max</th>\n",
       "      <td>9.999882e+06</td>\n",
       "      <td>0.983776</td>\n",
       "    </tr>\n",
       "  </tbody>\n",
       "</table>\n",
       "</div>"
      ],
      "text/plain": [
       "                  0             1\n",
       "count  7.111500e+04  71115.000000\n",
       "mean   4.998766e+06      0.406785\n",
       "std    2.882618e+06      0.244039\n",
       "min    2.550000e+02      0.000009\n",
       "25%    2.496521e+06      0.192746\n",
       "50%    5.010144e+06      0.403410\n",
       "75%    7.481742e+06      0.616155\n",
       "max    9.999882e+06      0.983776"
      ]
     },
     "execution_count": 61,
     "metadata": {},
     "output_type": "execute_result"
    }
   ],
   "source": [
    "df.describe()"
   ]
  },
  {
   "cell_type": "code",
   "execution_count": 126,
   "metadata": {
    "id": "ELf8nP5_CVRi"
   },
   "outputs": [],
   "source": [
    "X_train = df[0]\n",
    "y_train = df[1]"
   ]
  },
  {
   "cell_type": "code",
   "execution_count": 127,
   "metadata": {
    "colab": {
     "base_uri": "https://localhost:8080/",
     "height": 497
    },
    "id": "swpOngLNCka1",
    "outputId": "3e7c5f7a-9d16-4413-8a17-1479e28ae789"
   },
   "outputs": [
    {
     "data": {
      "image/png": "[encoded data removed]",
      "text/plain": [
       "<Figure size 576x576 with 1 Axes>"
      ]
     },
     "metadata": {
      "needs_background": "light"
     },
     "output_type": "display_data"
    }
   ],
   "source": [
    "plt.figure(figsize=(8, 8))\n",
    "plt.scatter(X_train, y_train)\n",
    "plt.xlabel('data')\n",
    "plt.ylabel('time')\n",
    "plt.show()"
   ]
  },
  {
   "cell_type": "markdown",
   "metadata": {
    "id": "JspLfZfOj-xO"
   },
   "source": [
    "# Train model"
   ]
  },
  {
   "cell_type": "code",
   "execution_count": 128,
   "metadata": {
    "id": "6gSRzkmzDyqe"
   },
   "outputs": [],
   "source": [
    "X_train = np.asarray(X_train)\n",
    "y_train = np.asarray(y_train)\n",
    "\n",
    "X_train = X_train.reshape(-1, 1)\n",
    "y_train = y_train.reshape(-1, 1)"
   ]
  },
  {
   "cell_type": "code",
   "execution_count": 129,
   "metadata": {
    "colab": {
     "base_uri": "https://localhost:8080/"
    },
    "id": "owUxVXpiDh3V",
    "outputId": "75b6f62f-f2a1-499f-e044-69c95058ad16"
   },
   "outputs": [
    {
     "data": {
      "text/plain": [
       "LinearRegression()"
      ]
     },
     "execution_count": 129,
     "metadata": {},
     "output_type": "execute_result"
    }
   ],
   "source": [
    "reg = LinearRegression()\n",
    "reg.fit(X_train, y_train)"
   ]
  },
  {
   "cell_type": "markdown",
   "metadata": {
    "id": "Ek4ul0cP8Gdm"
   },
   "source": [
    "# Đánh giá trên tập train"
   ]
  },
  {
   "cell_type": "markdown",
   "metadata": {
    "id": "rPhV5tQ8nFFR"
   },
   "source": [
    "## Đánh giá thông qua các hệ số R Squared và Mean Squared Error\n",
    "Khi đánh giá trong tập train thì các hệ số cho kết quả khá tốt"
   ]
  },
  {
   "cell_type": "code",
   "execution_count": 130,
   "metadata": {
    "colab": {
     "base_uri": "https://localhost:8080/"
    },
    "id": "X_65ge2py3bF",
    "outputId": "a1e410f7-23ed-4e9e-9c48-872c8c671bfe"
   },
   "outputs": [
    {
     "name": "stdout",
     "output_type": "stream",
     "text": [
      "R Squared: 0.9975867\n",
      "MSE: 0.0001434\n"
     ]
    }
   ],
   "source": [
    "print(\"R Squared: %.7f\" %r2_score(reg.predict(X_train), y_train))\n",
    "print(\"MSE: %.7f\" % mean_squared_error(reg.predict(X_train), y_train))"
   ]
  },
  {
   "cell_type": "markdown",
   "metadata": {
    "id": "BxxzVCU6nu2Z"
   },
   "source": [
    "Vẽ linear regression line lên biểu đồ. \n",
    "Dễ nhận thấy đường thẳng khá fit với dữ liệu train"
   ]
  },
  {
   "cell_type": "code",
   "execution_count": 131,
   "metadata": {
    "colab": {
     "base_uri": "https://localhost:8080/",
     "height": 497
    },
    "id": "GLvhOPoprz-r",
    "outputId": "20ed1dea-94cb-448f-ece6-428670d8a187"
   },
   "outputs": [
    {
     "data": {
      "image/png": "[encoded data removed]",
      "text/plain": [
       "<Figure size 576x576 with 1 Axes>"
      ]
     },
     "metadata": {
      "needs_background": "light"
     },
     "output_type": "display_data"
    }
   ],
   "source": [
    "plt.figure(figsize=(8, 8))\n",
    "plt.scatter(X_train, y_train)\n",
    "plt.plot(X_train, reg.predict(X_train), color='red', linewidth=3)\n",
    "plt.xlabel('data')\n",
    "plt.ylabel('time')\n",
    "plt.show()"
   ]
  },
  {
   "cell_type": "markdown",
   "metadata": {
    "id": "k9gjE5wRp7hu"
   },
   "source": [
    "# Đánh giá trên tập test"
   ]
  },
  {
   "cell_type": "code",
   "execution_count": 80,
   "metadata": {
    "id": "9N9RDvPkD-VY"
   },
   "outputs": [],
   "source": [
    "df3 = pd.read_csv('/content/data3.txt', header=None)"
   ]
  },
  {
   "cell_type": "code",
   "execution_count": 81,
   "metadata": {
    "id": "_X4si4b_E0E2"
   },
   "outputs": [],
   "source": [
    "X_test = df3[0]\n",
    "y_test = df3[1]\n",
    "\n",
    "X_test = np.asarray(X_test)\n",
    "X_test = X_test.reshape(-1, 1)\n",
    "\n",
    "y_test = np.asarray(y_test)\n",
    "y_test = y_test.reshape(-1, 1)"
   ]
  },
  {
   "cell_type": "markdown",
   "metadata": {
    "id": "0Qjd-waGoIgZ"
   },
   "source": [
    "## Nhận xét:\n",
    "Trong tập test có khoảng 10k example, các giá trị y nằm trong khoảng từ 1.669640 - 4.28766. Các giá trị y trong tập test lớn hơn nhiều so với giá trị y trong tập train."
   ]
  },
  {
   "cell_type": "code",
   "execution_count": 82,
   "metadata": {
    "colab": {
     "base_uri": "https://localhost:8080/",
     "height": 300
    },
    "id": "kGV4FU7Eo-D4",
    "outputId": "c7521790-abe7-4386-8542-37f13c770ee0"
   },
   "outputs": [
    {
     "data": {
      "text/html": [
       "<div>\n",
       "<style scoped>\n",
       "    .dataframe tbody tr th:only-of-type {\n",
       "        vertical-align: middle;\n",
       "    }\n",
       "\n",
       "    .dataframe tbody tr th {\n",
       "        vertical-align: top;\n",
       "    }\n",
       "\n",
       "    .dataframe thead th {\n",
       "        text-align: right;\n",
       "    }\n",
       "</style>\n",
       "<table border=\"1\" class=\"dataframe\">\n",
       "  <thead>\n",
       "    <tr style=\"text-align: right;\">\n",
       "      <th></th>\n",
       "      <th>0</th>\n",
       "      <th>1</th>\n",
       "    </tr>\n",
       "  </thead>\n",
       "  <tbody>\n",
       "    <tr>\n",
       "      <th>count</th>\n",
       "      <td>1.059000e+04</td>\n",
       "      <td>10590.000000</td>\n",
       "    </tr>\n",
       "    <tr>\n",
       "      <th>mean</th>\n",
       "      <td>2.999277e+07</td>\n",
       "      <td>2.642812</td>\n",
       "    </tr>\n",
       "    <tr>\n",
       "      <th>std</th>\n",
       "      <td>5.759381e+06</td>\n",
       "      <td>0.537305</td>\n",
       "    </tr>\n",
       "    <tr>\n",
       "      <th>min</th>\n",
       "      <td>2.000026e+07</td>\n",
       "      <td>1.669640</td>\n",
       "    </tr>\n",
       "    <tr>\n",
       "      <th>25%</th>\n",
       "      <td>2.503806e+07</td>\n",
       "      <td>2.180550</td>\n",
       "    </tr>\n",
       "    <tr>\n",
       "      <th>50%</th>\n",
       "      <td>2.994436e+07</td>\n",
       "      <td>2.639820</td>\n",
       "    </tr>\n",
       "    <tr>\n",
       "      <th>75%</th>\n",
       "      <td>3.500845e+07</td>\n",
       "      <td>3.100155</td>\n",
       "    </tr>\n",
       "    <tr>\n",
       "      <th>max</th>\n",
       "      <td>3.999734e+07</td>\n",
       "      <td>4.287660</td>\n",
       "    </tr>\n",
       "  </tbody>\n",
       "</table>\n",
       "</div>"
      ],
      "text/plain": [
       "                  0             1\n",
       "count  1.059000e+04  10590.000000\n",
       "mean   2.999277e+07      2.642812\n",
       "std    5.759381e+06      0.537305\n",
       "min    2.000026e+07      1.669640\n",
       "25%    2.503806e+07      2.180550\n",
       "50%    2.994436e+07      2.639820\n",
       "75%    3.500845e+07      3.100155\n",
       "max    3.999734e+07      4.287660"
      ]
     },
     "execution_count": 82,
     "metadata": {},
     "output_type": "execute_result"
    }
   ],
   "source": [
    "df3.describe()"
   ]
  },
  {
   "cell_type": "code",
   "execution_count": 83,
   "metadata": {
    "colab": {
     "base_uri": "https://localhost:8080/",
     "height": 497
    },
    "id": "226nJGXJsGqx",
    "outputId": "4770e40c-ac27-412e-b50b-1abf4ef28957"
   },
   "outputs": [
    {
     "data": {
      "image/png": "[encoded data removed]",
      "text/plain": [
       "<Figure size 576x576 with 1 Axes>"
      ]
     },
     "metadata": {
      "needs_background": "light"
     },
     "output_type": "display_data"
    }
   ],
   "source": [
    "plt.figure(figsize=(8, 8))\n",
    "plt.scatter(X_test, y_test)\n",
    "plt.xlabel('data')\n",
    "plt.ylabel('time')\n",
    "plt.show()"
   ]
  },
  {
   "cell_type": "markdown",
   "metadata": {
    "id": "d7YA8z40o9gO"
   },
   "source": [
    "## Nhận xét:\n",
    "Khi đánh giá bằng hệ số MSE và R Squared trên tập test thì cho kết quả thấp hơn nhưng nhìn vào giá trị này thì có thể xem model khá tốt"
   ]
  },
  {
   "cell_type": "code",
   "execution_count": 84,
   "metadata": {
    "colab": {
     "base_uri": "https://localhost:8080/"
    },
    "id": "ohoNo9pc3ZLn",
    "outputId": "f2d64326-8971-41b2-a22e-6287003c3d29"
   },
   "outputs": [
    {
     "name": "stdout",
     "output_type": "stream",
     "text": [
      "R Squared: 0.9128585\n",
      "MSE: 0.0206649\n"
     ]
    }
   ],
   "source": [
    "print(\"R Squared: %.7f\" %r2_score(reg.predict(X_test), y_test))\n",
    "print(\"MSE: %.7f\" % mean_squared_error(reg.predict(X_test), y_test))"
   ]
  },
  {
   "cell_type": "markdown",
   "metadata": {
    "id": "dffz5MHjqIh0"
   },
   "source": [
    "Biểu đồ histogram biểu diễn các giá trị y trong tập train (màu đỏ) và các giá trị y trong tập test (màu xanh). Có thể nhận thấy các dữ liệu này phân bố khác nhau và tách biệt nhau."
   ]
  },
  {
   "cell_type": "code",
   "execution_count": 20,
   "metadata": {
    "colab": {
     "base_uri": "https://localhost:8080/",
     "height": 500
    },
    "id": "XVSpAGDL-9oV",
    "outputId": "01bcab6f-f612-4c5e-bc8e-08ecbd9dbd2c"
   },
   "outputs": [
    {
     "data": {
      "text/plain": [
       "<module 'matplotlib.pyplot' from '/usr/local/lib/python3.7/dist-packages/matplotlib/pyplot.py'>"
      ]
     },
     "execution_count": 20,
     "metadata": {},
     "output_type": "execute_result"
    },
    {
     "data": {
      "image/png": "[encoded data removed]",
      "text/plain": [
       "<Figure size 576x576 with 1 Axes>"
      ]
     },
     "metadata": {
      "needs_background": "light"
     },
     "output_type": "display_data"
    }
   ],
   "source": [
    "plt.figure(figsize=(8, 8))\n",
    "plt.hist(y_train, color='red')\n",
    "plt.hist(y_test, color='blue')\n",
    "plt"
   ]
  },
  {
   "cell_type": "markdown",
   "metadata": {
    "id": "Xqrzr2aRpX7e"
   },
   "source": [
    "Tuy nhiên khi vẽ linear regression line lên biểu đồ biểu diễn các điểm dữ liệu trên tập test thì có thể thấy được model bị lệch ra ngoài khá nhiều. Nguyên nhân dẫn đến việc này là do trong tập train các giá trị y chỉ nằm trong đoạn nhỏ, làm cho model không có tính tổng quát, model cho kết quả đánh giá tốt trên tập train nhưng kết quả dự đoán trên tập test tệ và đây là dấu hiệu của việc model bị overfitting"
   ]
  },
  {
   "cell_type": "code",
   "execution_count": 21,
   "metadata": {
    "colab": {
     "base_uri": "https://localhost:8080/",
     "height": 497
    },
    "id": "DXfoJOqzkMk1",
    "outputId": "d785bb7b-1126-4e59-80b7-2df11b81b7d5"
   },
   "outputs": [
    {
     "data": {
      "image/png": "[encoded data removed]",
      "text/plain": [
       "<Figure size 576x576 with 1 Axes>"
      ]
     },
     "metadata": {
      "needs_background": "light"
     },
     "output_type": "display_data"
    }
   ],
   "source": [
    "plt.figure(figsize=(8, 8))\n",
    "plt.scatter(X_test, y_test)\n",
    "plt.plot(X_test, reg.predict(X_test), color='red', linewidth=3)\n",
    "plt.xlabel('data')\n",
    "plt.ylabel('time')\n",
    "plt.show()"
   ]
  },
  {
   "cell_type": "markdown",
   "metadata": {
    "id": "h9mb3jA80OWV"
   },
   "source": [
    "# Tối ưu bằng select data"
   ]
  },
  {
   "cell_type": "code",
   "execution_count": 22,
   "metadata": {
    "colab": {
     "base_uri": "https://localhost:8080/",
     "height": 300
    },
    "id": "u21al-RDRGh3",
    "outputId": "454d7a0f-c946-4847-d320-4dfe1567469e"
   },
   "outputs": [
    {
     "data": {
      "text/html": [
       "<div>\n",
       "<style scoped>\n",
       "    .dataframe tbody tr th:only-of-type {\n",
       "        vertical-align: middle;\n",
       "    }\n",
       "\n",
       "    .dataframe tbody tr th {\n",
       "        vertical-align: top;\n",
       "    }\n",
       "\n",
       "    .dataframe thead th {\n",
       "        text-align: right;\n",
       "    }\n",
       "</style>\n",
       "<table border=\"1\" class=\"dataframe\">\n",
       "  <thead>\n",
       "    <tr style=\"text-align: right;\">\n",
       "      <th></th>\n",
       "      <th>0</th>\n",
       "      <th>1</th>\n",
       "    </tr>\n",
       "  </thead>\n",
       "  <tbody>\n",
       "    <tr>\n",
       "      <th>count</th>\n",
       "      <td>7.111500e+04</td>\n",
       "      <td>71115.000000</td>\n",
       "    </tr>\n",
       "    <tr>\n",
       "      <th>mean</th>\n",
       "      <td>4.998766e+06</td>\n",
       "      <td>0.406785</td>\n",
       "    </tr>\n",
       "    <tr>\n",
       "      <th>std</th>\n",
       "      <td>2.882618e+06</td>\n",
       "      <td>0.244039</td>\n",
       "    </tr>\n",
       "    <tr>\n",
       "      <th>min</th>\n",
       "      <td>2.550000e+02</td>\n",
       "      <td>0.000009</td>\n",
       "    </tr>\n",
       "    <tr>\n",
       "      <th>25%</th>\n",
       "      <td>2.496521e+06</td>\n",
       "      <td>0.192746</td>\n",
       "    </tr>\n",
       "    <tr>\n",
       "      <th>50%</th>\n",
       "      <td>5.010144e+06</td>\n",
       "      <td>0.403410</td>\n",
       "    </tr>\n",
       "    <tr>\n",
       "      <th>75%</th>\n",
       "      <td>7.481742e+06</td>\n",
       "      <td>0.616155</td>\n",
       "    </tr>\n",
       "    <tr>\n",
       "      <th>max</th>\n",
       "      <td>9.999882e+06</td>\n",
       "      <td>0.983776</td>\n",
       "    </tr>\n",
       "  </tbody>\n",
       "</table>\n",
       "</div>"
      ],
      "text/plain": [
       "                  0             1\n",
       "count  7.111500e+04  71115.000000\n",
       "mean   4.998766e+06      0.406785\n",
       "std    2.882618e+06      0.244039\n",
       "min    2.550000e+02      0.000009\n",
       "25%    2.496521e+06      0.192746\n",
       "50%    5.010144e+06      0.403410\n",
       "75%    7.481742e+06      0.616155\n",
       "max    9.999882e+06      0.983776"
      ]
     },
     "execution_count": 22,
     "metadata": {},
     "output_type": "execute_result"
    }
   ],
   "source": [
    "df.describe()"
   ]
  },
  {
   "cell_type": "markdown",
   "metadata": {
    "id": "ABMi-x7rq_8c"
   },
   "source": [
    "Chọn các training example có giá trị y >= ngưỡng T. Giá trị T được chọn trong khoảng [0.2 - 0.6], step = 0.00001 sao cho model đạt perfomance tốt nhất.s Nếu chọn ngưỡng dưới bé hơn thì sẽ dẫn đến việc có nhiều giá trị y gần bằng 0 làm model mất tính tổng quát, nếu chọn ngưỡng trên cao sẽ dẫn đến việc thiếu training example -> model sẽ không tốt. "
   ]
  },
  {
   "cell_type": "code",
   "execution_count": 23,
   "metadata": {
    "id": "Yz8vKRerNuc4"
   },
   "outputs": [],
   "source": [
    "t = 0.2\n",
    "l = [t + i * 0.00001 for i in range(0, 40000)]"
   ]
  },
  {
   "cell_type": "code",
   "execution_count": 24,
   "metadata": {
    "id": "LjeUxNzkP11Z"
   },
   "outputs": [],
   "source": [
    "best_lg = None\n",
    "best_r2_score = 0\n",
    "best_t = 0.3\n",
    "s = []"
   ]
  },
  {
   "cell_type": "code",
   "execution_count": 25,
   "metadata": {
    "id": "JHOM-9ZwPldg"
   },
   "outputs": [],
   "source": [
    "for i in range(len(l)):\n",
    "  df_cp = df[df[1] >= l[i]]\n",
    "\n",
    "  X_cp = df_cp[0]\n",
    "  y_cp = df_cp[1]\n",
    "\n",
    "  X_cp = np.asarray(X_cp)\n",
    "  y_cp = np.asarray(y_cp)\n",
    "\n",
    "  X_cp = X_cp.reshape(-1, 1)\n",
    "  y_cp = y_cp.reshape(-1, 1)\n",
    "\n",
    "  lg = LinearRegression().fit(X_cp, y_cp)\n",
    "\n",
    "  r2_temp = r2_score(lg.predict(X_test), y_test)\n",
    "\n",
    "  if r2_temp > best_r2_score:\n",
    "    best_t = l[i]\n",
    "    best_lg = lg\n",
    "    best_r2_score = r2_temp\n",
    "  s.append(r2_temp)"
   ]
  },
  {
   "cell_type": "markdown",
   "metadata": {
    "id": "vjo3alqHsMTi"
   },
   "source": [
    "Khi lấy các training example có giá trị y >= 0.49032 thì model cho kết quả tốt hơn. Giá trị R Squared đã được cải thiện lên 0.9634"
   ]
  },
  {
   "cell_type": "code",
   "execution_count": 26,
   "metadata": {
    "colab": {
     "base_uri": "https://localhost:8080/"
    },
    "id": "Vv57ltnDQYl4",
    "outputId": "275641d5-7411-4c1b-f90d-a3d72efa3ee2"
   },
   "outputs": [
    {
     "name": "stdout",
     "output_type": "stream",
     "text": [
      "0.49032000000000003\n",
      "0.9634786544847298\n"
     ]
    }
   ],
   "source": [
    "print(best_t)\n",
    "print(best_r2_score)"
   ]
  },
  {
   "cell_type": "markdown",
   "metadata": {
    "id": "7sPcXiKPxxaz"
   },
   "source": [
    "## Biểu đồ biểu diễn R Squared và ngưỡng T\n",
    "Khi ngưỡng T tăng từ 0.2 lên thì R Squared tăng và đạt max ~ 0.9634 ở giá trị ngưỡng T là ~ 0.49032. Sau đó khi tăng T lên thì R Squared giảm.\n",
    "Vậy R Squared tối ưu khi chọn các training example có giá trị y >= 0.49032\n"
   ]
  },
  {
   "cell_type": "code",
   "execution_count": 27,
   "metadata": {
    "colab": {
     "base_uri": "https://localhost:8080/",
     "height": 298
    },
    "id": "QEXQ7Ou8Vvhm",
    "outputId": "98b43a8a-c3d7-4e05-b869-8e8e3ce9ef76"
   },
   "outputs": [
    {
     "data": {
      "text/plain": [
       "<module 'matplotlib.pyplot' from '/usr/local/lib/python3.7/dist-packages/matplotlib/pyplot.py'>"
      ]
     },
     "execution_count": 27,
     "metadata": {},
     "output_type": "execute_result"
    },
    {
     "data": {
      "image/png": "[encoded data removed]",
      "text/plain": [
       "<Figure size 432x288 with 1 Axes>"
      ]
     },
     "metadata": {
      "needs_background": "light"
     },
     "output_type": "display_data"
    }
   ],
   "source": [
    "s = np.asarray(s)\n",
    "plt.plot(l, s)\n",
    "plt.xlabel('T')\n",
    "plt.ylabel('R Squared')\n",
    "plt"
   ]
  },
  {
   "cell_type": "markdown",
   "metadata": {
    "id": "0PCkX5BUsidW"
   },
   "source": [
    "Model đã cải thiện hơn nhưng kết quả vẫn chưa tốt. Có thể nhận thấy khi thử trên tập dữ liệu test linear regresion line vẫn lệch xuống dưới khả nhiều"
   ]
  },
  {
   "cell_type": "code",
   "execution_count": 28,
   "metadata": {
    "colab": {
     "base_uri": "https://localhost:8080/",
     "height": 497
    },
    "id": "8wuLDTK7Qy5j",
    "outputId": "e5fc8cef-c8af-4c6d-ea9d-2dc10d09ccf4"
   },
   "outputs": [
    {
     "data": {
      "image/png": "[encoded data removed]",
      "text/plain": [
       "<Figure size 576x576 with 1 Axes>"
      ]
     },
     "metadata": {
      "needs_background": "light"
     },
     "output_type": "display_data"
    }
   ],
   "source": [
    "plt.figure(figsize=(8, 8))\n",
    "plt.scatter(X_test, y_test)\n",
    "plt.plot(X_test, best_lg.predict(X_test), color='red', linewidth=3)\n",
    "plt.xlabel('data')\n",
    "plt.ylabel('time')\n",
    "plt.show()"
   ]
  },
  {
   "cell_type": "markdown",
   "metadata": {
    "id": "LO10FW4_UEHD"
   },
   "source": [
    "# Tối ưu sử dụng Polynomial Regression"
   ]
  },
  {
   "cell_type": "markdown",
   "metadata": {
    "id": "ozyW13900XZj"
   },
   "source": [
    "# Biến đổi X thành nhiều features\n",
    "y = 𝞱_1 x + 𝞱_2x^2 + 𝞱_3*log(x) +𝞱_4*x*log(x) + 𝞱_5*sqrt(x) + 𝞱_0"
   ]
  },
  {
   "cell_type": "code",
   "execution_count": 29,
   "metadata": {
    "id": "S6_kra8UUFLl"
   },
   "outputs": [],
   "source": [
    "def func(df):\n",
    "  X_t = []\n",
    "  X_t.append(df[0])\n",
    "  X_t.append(np.sqrt(df[0]))\n",
    "  X_t.append(np.power(df[0], 2))\n",
    "  X_t.append(np.log2(df[0]))\n",
    "  X_t.append(df[0] * np.log2(df[0]))\n",
    "  X_t.append(np.ones(df.shape[0]))\n",
    "  X_t = np.asarray(X_t)\n",
    "  y_t = df[1]\n",
    "  return X_t.T, y_t"
   ]
  },
  {
   "cell_type": "code",
   "execution_count": 85,
   "metadata": {
    "id": "ebA98Mdvcizt"
   },
   "outputs": [],
   "source": [
    "X_train_, y_train_ = func(df)\n",
    "X_test_, y_test_ = func(df3)"
   ]
  },
  {
   "cell_type": "code",
   "execution_count": 89,
   "metadata": {
    "colab": {
     "base_uri": "https://localhost:8080/"
    },
    "id": "18yE8-H7agkv",
    "outputId": "2b41c2c4-cdb3-4498-bc19-97cf6a96f91f"
   },
   "outputs": [
    {
     "data": {
      "text/plain": [
       "LinearRegression()"
      ]
     },
     "execution_count": 89,
     "metadata": {},
     "output_type": "execute_result"
    }
   ],
   "source": [
    "lg = LinearRegression()\n",
    "lg.fit(X_train_, y_train_)"
   ]
  },
  {
   "cell_type": "markdown",
   "metadata": {
    "id": "L1vglKa50sMr"
   },
   "source": [
    "# Đánh giá trên tập data3.txt\n",
    "Giá trị R Squared được tối ưu hơn tăng từ 0.96 -> 0.98"
   ]
  },
  {
   "cell_type": "code",
   "execution_count": 91,
   "metadata": {
    "colab": {
     "base_uri": "https://localhost:8080/"
    },
    "id": "373ee2Ow370z",
    "outputId": "cf77b48b-0a70-4c7d-df7c-09d920da8c60"
   },
   "outputs": [
    {
     "name": "stdout",
     "output_type": "stream",
     "text": [
      "R Squared: 0.9834996\n",
      "MSE: 0.0048825\n"
     ]
    }
   ],
   "source": [
    "print(\"R Squared: %.7f\" %r2_score(lg.predict(X_test_), y_test_))\n",
    "print(\"MSE: %.7f\" % mean_squared_error(lg.predict(X_test_), y_test_))"
   ]
  },
  {
   "cell_type": "markdown",
   "metadata": {
    "id": "dMXk71FL05Yj"
   },
   "source": [
    "linear regression line đã fit với dữ liệu hơn khi chưa áp dụng polynomial regression"
   ]
  },
  {
   "cell_type": "code",
   "execution_count": 35,
   "metadata": {
    "colab": {
     "base_uri": "https://localhost:8080/",
     "height": 497
    },
    "id": "l1Qy92HKfIAS",
    "outputId": "2bf3d5f8-1836-46e7-f0b6-33a46bc00ba7"
   },
   "outputs": [
    {
     "data": {
      "image/png": "[encoded data removed]",
      "text/plain": [
       "<Figure size 576x576 with 1 Axes>"
      ]
     },
     "metadata": {
      "needs_background": "light"
     },
     "output_type": "display_data"
    }
   ],
   "source": [
    "plt.figure(figsize=(8, 8))\n",
    "plt.scatter(X_test, y_test)\n",
    "plt.plot(X_test, lg.predict(X_test_), color='red', linewidth=3)\n",
    "plt.xlabel('data')\n",
    "plt.ylabel('time')\n",
    "plt.show()"
   ]
  },
  {
   "cell_type": "markdown",
   "metadata": {
    "id": "1mMWBmaKh6bG"
   },
   "source": [
    "# Đánh giá trên data4.txt"
   ]
  },
  {
   "cell_type": "code",
   "execution_count": 92,
   "metadata": {
    "id": "ABPruA1efl_q"
   },
   "outputs": [],
   "source": [
    "df4 = pd.read_csv('data4.txt', header=None)"
   ]
  },
  {
   "cell_type": "code",
   "execution_count": 93,
   "metadata": {
    "id": "Ae4OookKfjoK"
   },
   "outputs": [],
   "source": [
    "X_test4, y_test4 = func(df4)"
   ]
  },
  {
   "cell_type": "code",
   "execution_count": 94,
   "metadata": {
    "colab": {
     "base_uri": "https://localhost:8080/"
    },
    "id": "JiNpX7esfu6y",
    "outputId": "09757720-e8f4-40cd-d443-05d4ca9143d7"
   },
   "outputs": [
    {
     "name": "stdout",
     "output_type": "stream",
     "text": [
      "R Squared: 0.9357681\n",
      "MSE: 0.0211867\n"
     ]
    }
   ],
   "source": [
    "print(\"R Squared: %.7f\" %r2_score(lg.predict(X_test4), y_test4))\n",
    "print(\"MSE: %.7f\" % mean_squared_error(lg.predict(X_test4), y_test4))"
   ]
  },
  {
   "cell_type": "code",
   "execution_count": 95,
   "metadata": {
    "colab": {
     "base_uri": "https://localhost:8080/",
     "height": 497
    },
    "id": "HhePowRDf4q9",
    "outputId": "11dc61cc-cc0b-4fd1-ffca-5e2985a19c18"
   },
   "outputs": [
    {
     "data": {
      "image/png": "[encoded data removed]",
      "text/plain": [
       "<Figure size 576x576 with 1 Axes>"
      ]
     },
     "metadata": {
      "needs_background": "light"
     },
     "output_type": "display_data"
    }
   ],
   "source": [
    "plt.figure(figsize=(8, 8))\n",
    "plt.scatter(df_test4[0], df_test4[1])\n",
    "plt.plot(df_test4[0], lg.predict(X_test4), color='red', linewidth=3)\n",
    "plt.xlabel('data')\n",
    "plt.ylabel('time')\n",
    "plt.show()"
   ]
  }
 ],
 "metadata": {
  "colab": {
   "collapsed_sections": [],
   "name": "cs114_linear_regression.ipynb",
   "provenance": []
  },
  "kernelspec": {
   "display_name": "Python 3",
   "language": "python",
   "name": "python3"
  },
  "language_info": {
   "codemirror_mode": {
    "name": "ipython",
    "version": 3
   },
   "file_extension": ".py",
   "mimetype": "text/x-python",
   "name": "python",
   "nbconvert_exporter": "python",
   "pygments_lexer": "ipython3",
   "version": "3.8.8"
  }
 },
 "nbformat": 4,
 "nbformat_minor": 4
}
